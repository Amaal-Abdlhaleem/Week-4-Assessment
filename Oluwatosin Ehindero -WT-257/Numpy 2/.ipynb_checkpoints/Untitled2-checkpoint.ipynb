{
 "cells": [
  {
   "cell_type": "code",
   "execution_count": 1,
   "id": "1d4fde4e",
   "metadata": {},
   "outputs": [
    {
     "name": "stdout",
     "output_type": "stream",
     "text": [
      "Welcome\n"
     ]
    }
   ],
   "source": [
    "print(\"Welcome\")"
   ]
  },
  {
   "cell_type": "code",
   "execution_count": null,
   "id": "88e9bea5",
   "metadata": {},
   "outputs": [],
   "source": [
    "checker = input(\"Submit complain\")"
   ]
  },
  {
   "cell_type": "code",
   "execution_count": null,
   "id": "471cbaa3",
   "metadata": {},
   "outputs": [],
   "source": [
    "complain_bank = \n",
    "{\n",
    "   \"complain 1\": [\n",
    "\t\n",
    "      {\n",
    "         \"id\":\"01\",\n",
    "         \"complain\": \"Ap not working\",\n",
    "\n",
    "\t\n",
    "      {\n",
    "         \"id\":\"02\",\n",
    "         \"complain\": \"Irrelevant push notification\"\n",
    "    \n",
    "          \n",
    "          \n",
    "          id : \"03\"\n",
    "          \"complain\" : \"Frequent \"rate this app request\" reauest\"\n",
    "         \n",
    "          \n",
    "    \n",
    "\n",
    "   ]\n",
    "    \n",
    "}"
   ]
  }
 ],
 "metadata": {
  "kernelspec": {
   "display_name": "Python 3",
   "language": "python",
   "name": "python3"
  },
  "language_info": {
   "codemirror_mode": {
    "name": "ipython",
    "version": 3
   },
   "file_extension": ".py",
   "mimetype": "text/x-python",
   "name": "python",
   "nbconvert_exporter": "python",
   "pygments_lexer": "ipython3",
   "version": "3.8.8"
  }
 },
 "nbformat": 4,
 "nbformat_minor": 5
}
