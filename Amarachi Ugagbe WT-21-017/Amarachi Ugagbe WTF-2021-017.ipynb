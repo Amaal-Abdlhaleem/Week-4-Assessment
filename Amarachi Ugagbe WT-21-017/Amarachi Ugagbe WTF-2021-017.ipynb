{
 "cells": [
  {
   "cell_type": "markdown",
   "id": "506e8725",
   "metadata": {},
   "source": [
    "# WEEK 4 ASSESSMENT"
   ]
  },
  {
   "cell_type": "markdown",
   "id": "5140677d",
   "metadata": {},
   "source": [
    "1.\tWrite a NumPy program to test whether none of the elements of a given array is zero."
   ]
  },
  {
   "cell_type": "code",
   "execution_count": 5,
   "id": "fc9ce2ac",
   "metadata": {},
   "outputs": [],
   "source": [
    "import numpy as np"
   ]
  },
  {
   "cell_type": "code",
   "execution_count": 7,
   "id": "0e4151ea",
   "metadata": {},
   "outputs": [
    {
     "name": "stdout",
     "output_type": "stream",
     "text": [
      "1 is not zero\n",
      "6 is not zero\n",
      "9 is not zero\n",
      "10 is not zero\n",
      "zero value is found\n",
      "45 is not zero\n",
      "10 is not zero\n"
     ]
    }
   ],
   "source": [
    "a = np.array([1,6,9,10,0,45,10])\n",
    "for item in a:\n",
    "    if item ==0:\n",
    "        print(\"zero value is found\")\n",
    "    else:\n",
    "        print(item, \"is not zero\")"
   ]
  },
  {
   "cell_type": "markdown",
   "id": "8129e7de",
   "metadata": {},
   "source": [
    "2.\tWrite a NumPy program to test whether any of the elements of a given array is non-zero"
   ]
  },
  {
   "cell_type": "code",
   "execution_count": 8,
   "id": "1d36c7ac",
   "metadata": {},
   "outputs": [
    {
     "name": "stdout",
     "output_type": "stream",
     "text": [
      "[1 2 0 0 3 0]\n",
      "True\n"
     ]
    }
   ],
   "source": [
    "b = np.array([1,2,0,0,3,0])\n",
    "print(b)\n",
    "print(np.any(b))"
   ]
  },
  {
   "cell_type": "code",
   "execution_count": 9,
   "id": "aa628d25",
   "metadata": {
    "scrolled": true
   },
   "outputs": [
    {
     "name": "stdout",
     "output_type": "stream",
     "text": [
      "[0 0 0 0 0 0 0 0]\n",
      "False\n"
     ]
    }
   ],
   "source": [
    "c = np.array([0,0,0,0,0,0,0,0])\n",
    "print(c)\n",
    "print(np.any(c))"
   ]
  },
  {
   "cell_type": "markdown",
   "id": "5d1ec544",
   "metadata": {},
   "source": [
    "\n",
    "\n",
    "3.\tWrite a NumPy program to test a given array element-wise for finiteness (not infinity or not a Number).\n"
   ]
  },
  {
   "cell_type": "code",
   "execution_count": 11,
   "id": "0575ad5e",
   "metadata": {},
   "outputs": [
    {
     "name": "stdout",
     "output_type": "stream",
     "text": [
      "[ 8. 10. nan inf 30.]\n",
      "Test a given array element-wise for finiteness:\n",
      "[ True  True False False  True]\n"
     ]
    }
   ],
   "source": [
    "d = np.array([8, 10, np.nan, np.inf, 30])\n",
    "print(d)\n",
    "print(\"Test a given array element-wise for finiteness:\")\n",
    "print(np.isfinite(d))"
   ]
  },
  {
   "cell_type": "markdown",
   "id": "975be837",
   "metadata": {},
   "source": [
    "4.\tWrite a NumPy program to test element-wise for positive or negative infinity."
   ]
  },
  {
   "cell_type": "code",
   "execution_count": 12,
   "id": "e0eee709",
   "metadata": {},
   "outputs": [
    {
     "name": "stdout",
     "output_type": "stream",
     "text": [
      "[ 8. 10. nan inf 30.]\n",
      "Test element-wise for positive or negative infinity:\n",
      "[False False False  True False]\n"
     ]
    }
   ],
   "source": [
    "d = np.array([8, 10, np.nan, np.inf, 30])\n",
    "print(d)\n",
    "print(\"Test element-wise for positive or negative infinity:\")\n",
    "print(np.isinf(d))"
   ]
  },
  {
   "cell_type": "markdown",
   "id": "49862bc8",
   "metadata": {},
   "source": [
    "5.\tWrite a NumPy program to test element-wise for NaN of a given array.\n"
   ]
  },
  {
   "cell_type": "code",
   "execution_count": 13,
   "id": "b14c80a9",
   "metadata": {},
   "outputs": [
    {
     "name": "stdout",
     "output_type": "stream",
     "text": [
      "[ 8. 10. nan inf 30.]\n",
      "Test element-wise for NaN:\n",
      "[False False  True False False]\n"
     ]
    }
   ],
   "source": [
    "e = np.array([8, 10, np.nan, np.inf, 30])\n",
    "print(e)\n",
    "print(\"Test element-wise for NaN:\")\n",
    "print(np.isnan(e))"
   ]
  },
  {
   "cell_type": "markdown",
   "id": "c9644216",
   "metadata": {},
   "source": [
    "6.\tWrite a NumPy program to test element-wise for complex number, real number of a given array. Also test whether a given number is a scalar type or not."
   ]
  },
  {
   "cell_type": "code",
   "execution_count": 14,
   "id": "5d647d7e",
   "metadata": {},
   "outputs": [
    {
     "name": "stdout",
     "output_type": "stream",
     "text": [
      "[ 6.  +0.j  5.  +2.j  8.  +2.j  2.9 +0.j  7.  +0.j 10.  +0.j  0. +11.j]\n",
      "[False  True  True False False False  True]\n",
      "[ True False False  True  True  True False]\n",
      "True\n"
     ]
    }
   ],
   "source": [
    "f = np.array([6, 5+2j, 8+2j, 2.9, 7, 10, 11j])\n",
    "print(f)\n",
    "\n",
    "#to check complex number\n",
    "print(np.iscomplex(f))\n",
    "\n",
    "#to check for real number\n",
    "print(np.isreal(f))\n",
    "\n",
    "#to check for scalar type\n",
    "print(np.isscalar(2.9))"
   ]
  },
  {
   "cell_type": "markdown",
   "id": "e2fad35f",
   "metadata": {},
   "source": [
    "7.\tWrite a NumPy program to test whether two arrays are element-wise equal within a tolerance."
   ]
  },
  {
   "cell_type": "code",
   "execution_count": 15,
   "id": "7e82c1dd",
   "metadata": {},
   "outputs": [
    {
     "name": "stdout",
     "output_type": "stream",
     "text": [
      "False\n"
     ]
    }
   ],
   "source": [
    "g = np.array([1e9,1e-6])\n",
    "h = np.array([1.0001e12,1e-9])\n",
    "\n",
    "#\"Test if two arrays are element-wise equal within a tolerance:\"\n",
    "print(np.allclose(g,h))"
   ]
  },
  {
   "cell_type": "markdown",
   "id": "1fe0b6d1",
   "metadata": {},
   "source": [
    "8.\tWrite a NumPy program to create an element-wise comparison (greater, greater_equal, less and less_equal) of two given arrays."
   ]
  },
  {
   "cell_type": "code",
   "execution_count": 17,
   "id": "200c2f8d",
   "metadata": {},
   "outputs": [
    {
     "name": "stdout",
     "output_type": "stream",
     "text": [
      "[False False False False]\n",
      "[ True  True False False]\n",
      "[False False  True  True]\n",
      "[ True  True  True  True]\n"
     ]
    }
   ],
   "source": [
    "x1 = np.array([2, 4, 6, 8])\n",
    "x2 = np.array([2, 4, 8, 10])\n",
    "\n",
    "# for greater than\n",
    "print(np.greater(x1, x2))\n",
    "\n",
    "# for greater_equal\n",
    "print(np.greater_equal(x1, x2))\n",
    "\n",
    "#for less\n",
    "print(np.less(x1,x2))\n",
    "\n",
    "# for less_equal\n",
    "print(np.less_equal(x1, x2))\n",
    "      "
   ]
  },
  {
   "cell_type": "markdown",
   "id": "a9c67c8e",
   "metadata": {},
   "source": [
    "9.\tWrite a NumPy program to create an element-wise comparison (equal, equal within a tolerance) of two given arrays."
   ]
  },
  {
   "cell_type": "code",
   "execution_count": 19,
   "id": "02f47e7e",
   "metadata": {},
   "outputs": [
    {
     "name": "stdout",
     "output_type": "stream",
     "text": [
      "[ True  True False False False False  True]\n",
      "False\n"
     ]
    }
   ],
   "source": [
    "x1 = np.array([2, 4, 6, 8, 5, 9, 18])\n",
    "x2 = np.array([2, 4, 8, 10, 7, 11, 18])\n",
    "\n",
    "# for Comparison - equal:\n",
    "print(np.equal(x1, x2))\n",
    "\n",
    "# for Comparison - equal within a tolerance:\"\n",
    "print(np.allclose(x1, x2))"
   ]
  },
  {
   "cell_type": "markdown",
   "id": "a5bbd56f",
   "metadata": {},
   "source": [
    "10.\tWrite a NumPy program to create an array with the values 1, 7, 13, 105 and determine the size of the memory occupied by the array."
   ]
  },
  {
   "cell_type": "code",
   "execution_count": 20,
   "id": "c074e205",
   "metadata": {},
   "outputs": [
    {
     "name": "stdout",
     "output_type": "stream",
     "text": [
      "[  1   7  13 105]\n",
      "Size of the memory occupied by the said array:\n",
      "16 bytes\n"
     ]
    }
   ],
   "source": [
    "y = np.array([1, 7, 13, 105])\n",
    "\n",
    "print(y)\n",
    "\n",
    "print(\"Size of the memory occupied by the said array:\")\n",
    "print(\"%d bytes\" % (y.size * y.itemsize))"
   ]
  },
  {
   "cell_type": "code",
   "execution_count": null,
   "id": "9aaeafb7",
   "metadata": {},
   "outputs": [],
   "source": []
  }
 ],
 "metadata": {
  "kernelspec": {
   "display_name": "Python 3",
   "language": "python",
   "name": "python3"
  },
  "language_info": {
   "codemirror_mode": {
    "name": "ipython",
    "version": 3
   },
   "file_extension": ".py",
   "mimetype": "text/x-python",
   "name": "python",
   "nbconvert_exporter": "python",
   "pygments_lexer": "ipython3",
   "version": "3.8.8"
  }
 },
 "nbformat": 4,
 "nbformat_minor": 5
}
