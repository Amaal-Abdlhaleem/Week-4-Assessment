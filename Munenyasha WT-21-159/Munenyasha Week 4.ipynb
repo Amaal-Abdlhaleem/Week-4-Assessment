{
 "cells": [
  {
   "cell_type": "markdown",
   "metadata": {},
   "source": [
    "# Week4 Numpy Tasks"
   ]
  },
  {
   "cell_type": "markdown",
   "metadata": {},
   "source": [
    "### Task1 Write a NumPy program to test whether none of the elements of a given array is zero."
   ]
  },
  {
   "cell_type": "code",
   "execution_count": 2,
   "metadata": {},
   "outputs": [
    {
     "name": "stdout",
     "output_type": "stream",
     "text": [
      "11 is not zero\n",
      "4 is not zero\n",
      "9 is not zero\n",
      "Zero value found\n",
      "-2 is not zero\n",
      "8 is not zero\n"
     ]
    }
   ],
   "source": [
    "import numpy as np\n",
    "A = np.array([11,4,9,0,-2,8])\n",
    "for item in A:\n",
    "    if item ==0:\n",
    "        print('Zero value found')\n",
    "    else:\n",
    "        print(item,'is not zero')"
   ]
  },
  {
   "cell_type": "markdown",
   "metadata": {},
   "source": [
    "### Task2 Write a NumPy program to test whether any of the elements of a given array is non-zero"
   ]
  },
  {
   "cell_type": "code",
   "execution_count": 4,
   "metadata": {},
   "outputs": [
    {
     "name": "stdout",
     "output_type": "stream",
     "text": [
      "Test whether any of the elements of a given array is non-zero: True\n"
     ]
    }
   ],
   "source": [
    "A = np.array([1,0,0,0,0,1])\n",
    "print(\"Test whether any of the elements of a given array is non-zero:\",(np.any(A)))"
   ]
  },
  {
   "cell_type": "markdown",
   "metadata": {},
   "source": [
    "### Task3 Write a NumPy program to test a given array element-wise for finiteness (not infinity or not a Number)"
   ]
  },
  {
   "cell_type": "code",
   "execution_count": 5,
   "metadata": {},
   "outputs": [
    {
     "name": "stdout",
     "output_type": "stream",
     "text": [
      "Test a given element-wise for finiteness? [ True  True False False]\n"
     ]
    }
   ],
   "source": [
    "B= np.array([-5,9,np.inf,np.nan])\n",
    "print(\"Test a given element-wise for finiteness?\",(np.isfinite(B)))"
   ]
  },
  {
   "cell_type": "markdown",
   "metadata": {},
   "source": [
    "### Task4 Write a NumPy program to test element-wise for positive or negative infinity"
   ]
  },
  {
   "cell_type": "code",
   "execution_count": 6,
   "metadata": {},
   "outputs": [
    {
     "name": "stdout",
     "output_type": "stream",
     "text": [
      "[False False False  True False]\n"
     ]
    }
   ],
   "source": [
    "C = np.array([-5,3,0,np.inf,np.nan])\n",
    "print(np.isinf(C))"
   ]
  },
  {
   "cell_type": "markdown",
   "metadata": {},
   "source": [
    "### Task5 Write a NumPy program to test element-wise for NaN of a given array."
   ]
  },
  {
   "cell_type": "code",
   "execution_count": 7,
   "metadata": {},
   "outputs": [
    {
     "name": "stdout",
     "output_type": "stream",
     "text": [
      "[False False False  True False False]\n"
     ]
    }
   ],
   "source": [
    "D= np.array([2,7,8,np.nan,np.inf,10])\n",
    "print(np.isnan(D))"
   ]
  },
  {
   "cell_type": "markdown",
   "metadata": {},
   "source": [
    "### Task6 Write a NumPy program to test element-wise for complex number, real number of a given array. Also test whether a given number is a scalar type or not"
   ]
  },
  {
   "cell_type": "code",
   "execution_count": 13,
   "metadata": {},
   "outputs": [
    {
     "name": "stdout",
     "output_type": "stream",
     "text": [
      "Which of the following elements are complex numbers? [False False False  True  True]\n",
      "Which of the following elements are real numbers? [ True  True  True False False]\n",
      "Is it a  scalar type?  True\n",
      "Is it a scalar type? False\n"
     ]
    }
   ],
   "source": [
    "E = np.array([-7, 2+0j, 4.5, 3+2j, 6j])\n",
    "print(\"Which of the following elements are complex numbers?\",np.iscomplex(E))\n",
    "print(\"Which of the following elements are real numbers?\",np.isreal(E))\n",
    "print(\"Is it a  scalar type? \",np.isscalar(4.5))\n",
    "print(\"Is it a scalar type?\",np.isscalar([-7]) )"
   ]
  },
  {
   "cell_type": "markdown",
   "metadata": {},
   "source": [
    "### Task7 Write a NumPy program to test whether two arrays are element-wise equal within a tolerance"
   ]
  },
  {
   "cell_type": "code",
   "execution_count": 14,
   "metadata": {},
   "outputs": [
    {
     "name": "stdout",
     "output_type": "stream",
     "text": [
      "False\n",
      "False\n"
     ]
    }
   ],
   "source": [
    "m = np.array([1e12,1e-9])\n",
    "n = np.array([[1.00001e13,1e-4]])\n",
    "print(np.allclose(m,n))\n",
    "x = np.array([1e12,1e-9])\n",
    "y = np.array([1.00001e13,1e-4])\n",
    "print(np.allclose(x,y))"
   ]
  },
  {
   "cell_type": "markdown",
   "metadata": {},
   "source": [
    "### Task8 Write a NumPy program to create an element-wise comparison (greater, greater_equal, less and less_equal) of two given arrays"
   ]
  },
  {
   "cell_type": "code",
   "execution_count": 15,
   "metadata": {},
   "outputs": [
    {
     "name": "stdout",
     "output_type": "stream",
     "text": [
      "Greater [False  True]\n",
      "Greater_Equal [False  True]\n",
      "Less [ True False]\n",
      "Less_Equal [ True False]\n"
     ]
    }
   ],
   "source": [
    "x = np.array ([7,9])\n",
    "y = np.array ([8,4])\n",
    "print(\"Greater\",np.greater(x,y))\n",
    "print(\"Greater_Equal\",np.greater_equal(x,y))\n",
    "print(\"Less\",np.less(x,y))\n",
    "print(\"Less_Equal\",np.less_equal(x,y))"
   ]
  },
  {
   "cell_type": "markdown",
   "metadata": {},
   "source": [
    " ### Task9 Write a NumPy program to create an element-wise comparison (equal, equal within a tolerance)            of two given arrays."
   ]
  },
  {
   "cell_type": "code",
   "execution_count": 16,
   "metadata": {},
   "outputs": [
    {
     "name": "stdout",
     "output_type": "stream",
     "text": [
      "Equal [False False  True False False False False]\n",
      "Equal with a tolerance False\n"
     ]
    }
   ],
   "source": [
    "m = np.array ([7,14,9,0,10,21,24])\n",
    "n = np.array ([3,6,9,12,15,18,27])\n",
    "print(\"Equal\",np.equal(m,n))\n",
    "print(\"Equal with a tolerance\",np.allclose(m,n))"
   ]
  },
  {
   "cell_type": "markdown",
   "metadata": {},
   "source": [
    "### Task10 Write a NumPy program to create an array with the values 1, 7, 13, 105 and determine the size of the memory occupied by the array"
   ]
  },
  {
   "cell_type": "code",
   "execution_count": 17,
   "metadata": {},
   "outputs": [
    {
     "name": "stdout",
     "output_type": "stream",
     "text": [
      "The size of memory occupied by the array is  16 bytes\n"
     ]
    }
   ],
   "source": [
    "x = np.array([1, 7, 13, 105])\n",
    "print(\"The size of memory occupied by the array is \",\"%d bytes\" %(x.size * x.itemsize))"
   ]
  },
  {
   "cell_type": "code",
   "execution_count": null,
   "metadata": {},
   "outputs": [],
   "source": []
  }
 ],
 "metadata": {
  "kernelspec": {
   "display_name": "Python 3",
   "language": "python",
   "name": "python3"
  },
  "language_info": {
   "codemirror_mode": {
    "name": "ipython",
    "version": 3
   },
   "file_extension": ".py",
   "mimetype": "text/x-python",
   "name": "python",
   "nbconvert_exporter": "python",
   "pygments_lexer": "ipython3",
   "version": "3.8.5"
  }
 },
 "nbformat": 4,
 "nbformat_minor": 4
}
