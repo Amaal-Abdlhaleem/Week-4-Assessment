{
 "cells": [
  {
   "cell_type": "code",
   "execution_count": 1,
   "id": "b07f455a",
   "metadata": {},
   "outputs": [],
   "source": [
    "# this code conceals irrelevant warning messages\n",
    "import warnings\n",
    "warnings.simplefilter('ignore', FutureWarning)\n",
    "import numpy as np"
   ]
  },
  {
   "cell_type": "markdown",
   "id": "0fb37045",
   "metadata": {},
   "source": [
    "## More on NumPy - Arithmetic Operations"
   ]
  },
  {
   "cell_type": "markdown",
   "id": "c0031d48",
   "metadata": {},
   "source": [
    "Input arrays for performing arithmetic operations such as add(), subtract(), multiply(), and divide() must be either of the same shape or should conform to array broadcasting rules.\n",
    "\n",
    "**Example**"
   ]
  },
  {
   "cell_type": "code",
   "execution_count": 2,
   "id": "c0cbe775",
   "metadata": {},
   "outputs": [
    {
     "name": "stdout",
     "output_type": "stream",
     "text": [
      "First array:\n"
     ]
    },
    {
     "data": {
      "text/plain": [
       "array([[0., 1., 2.],\n",
       "       [3., 4., 5.],\n",
       "       [6., 7., 8.]])"
      ]
     },
     "execution_count": 2,
     "metadata": {},
     "output_type": "execute_result"
    }
   ],
   "source": [
    "a = np.arange(9, dtype = np.float_).reshape(3,3) \n",
    "\n",
    "print('First array:') \n",
    "a  "
   ]
  },
  {
   "cell_type": "code",
   "execution_count": 3,
   "id": "68985fb2",
   "metadata": {},
   "outputs": [
    {
     "name": "stdout",
     "output_type": "stream",
     "text": [
      "Second array:\n"
     ]
    },
    {
     "data": {
      "text/plain": [
       "array([10,  5, 10])"
      ]
     },
     "execution_count": 3,
     "metadata": {},
     "output_type": "execute_result"
    }
   ],
   "source": [
    "print('Second array:' )\n",
    "b = np.array([10,5,10]) \n",
    "b"
   ]
  },
  {
   "cell_type": "code",
   "execution_count": 4,
   "id": "7a2f1e97",
   "metadata": {},
   "outputs": [
    {
     "name": "stdout",
     "output_type": "stream",
     "text": [
      "Add the two arrays:\n"
     ]
    },
    {
     "data": {
      "text/plain": [
       "array([[10.,  6., 12.],\n",
       "       [13.,  9., 15.],\n",
       "       [16., 12., 18.]])"
      ]
     },
     "execution_count": 4,
     "metadata": {},
     "output_type": "execute_result"
    }
   ],
   "source": [
    "print('Add the two arrays:') \n",
    "np.add(a,b)  "
   ]
  },
  {
   "cell_type": "code",
   "execution_count": 5,
   "id": "4a68f49f",
   "metadata": {},
   "outputs": [
    {
     "name": "stdout",
     "output_type": "stream",
     "text": [
      "Subtract the two arrays:\n"
     ]
    },
    {
     "data": {
      "text/plain": [
       "array([[-10.,  -4.,  -8.],\n",
       "       [ -7.,  -1.,  -5.],\n",
       "       [ -4.,   2.,  -2.]])"
      ]
     },
     "execution_count": 5,
     "metadata": {},
     "output_type": "execute_result"
    }
   ],
   "source": [
    "print('Subtract the two arrays:') \n",
    "np.subtract(a,b)"
   ]
  },
  {
   "cell_type": "code",
   "execution_count": 6,
   "id": "ae621415",
   "metadata": {},
   "outputs": [
    {
     "name": "stdout",
     "output_type": "stream",
     "text": [
      "Multiply the two arrays:\n"
     ]
    },
    {
     "data": {
      "text/plain": [
       "array([[ 0.,  5., 20.],\n",
       "       [30., 20., 50.],\n",
       "       [60., 35., 80.]])"
      ]
     },
     "execution_count": 6,
     "metadata": {},
     "output_type": "execute_result"
    }
   ],
   "source": [
    "print('Multiply the two arrays:') \n",
    "np.multiply(a,b)"
   ]
  },
  {
   "cell_type": "code",
   "execution_count": 7,
   "id": "f2cc2d88",
   "metadata": {},
   "outputs": [
    {
     "name": "stdout",
     "output_type": "stream",
     "text": [
      "Divide the two arrays:\n"
     ]
    },
    {
     "data": {
      "text/plain": [
       "array([[0. , 0.2, 0.2],\n",
       "       [0.3, 0.8, 0.5],\n",
       "       [0.6, 1.4, 0.8]])"
      ]
     },
     "execution_count": 7,
     "metadata": {},
     "output_type": "execute_result"
    }
   ],
   "source": [
    "print('Divide the two arrays:' )\n",
    "np.divide(a,b)"
   ]
  },
  {
   "cell_type": "markdown",
   "id": "bba8da5b",
   "metadata": {},
   "source": [
    "**More arithmetics can be performed with the following:**"
   ]
  },
  {
   "cell_type": "markdown",
   "id": "ef154aba",
   "metadata": {},
   "source": [
    "- numpy.reciprocal()\n",
    "\n",
    "This function returns the reciprocal of argument, element-wise. For elements with absolute values larger than 1, the result is always 0 because of the way in which Python handles integer division. For integer 0, an overflow warning is issued.\n",
    "\n",
    "- numpy.power()\n",
    "\n",
    "This function treats elements in the first input array as base and returns it raised to the power of the corresponding element in the second input array.\n",
    "\n",
    "- numpy.mod()\n",
    "\n",
    "This function returns the remainder of division of the corresponding elements in the input array. The function numpy.remainder() also produces the same result."
   ]
  },
  {
   "cell_type": "markdown",
   "id": "ebe7e077",
   "metadata": {},
   "source": [
    "## Statistical Functions\n",
    "\n",
    "NumPy has quite a few useful statistical functions for finding minimum, maximum, percentile standard deviation and variance, etc. from the given elements in the array.\n",
    "\n",
    "**numpy.amin() and numpy.amax()**\n",
    "These functions return the minimum and the maximum from the elements in the given array along the specified axis.\n",
    "\n",
    "**Example**"
   ]
  },
  {
   "cell_type": "code",
   "execution_count": 8,
   "id": "093f6d86",
   "metadata": {},
   "outputs": [
    {
     "name": "stdout",
     "output_type": "stream",
     "text": [
      "Our array is:\n"
     ]
    },
    {
     "data": {
      "text/plain": [
       "array([[3, 7, 5],\n",
       "       [8, 4, 3],\n",
       "       [2, 4, 9]])"
      ]
     },
     "execution_count": 8,
     "metadata": {},
     "output_type": "execute_result"
    }
   ],
   "source": [
    "a = np.array([[3,7,5],[8,4,3],[2,4,9]]) \n",
    "\n",
    "print('Our array is:' )\n",
    "a"
   ]
  },
  {
   "cell_type": "code",
   "execution_count": 18,
   "id": "fa950de1",
   "metadata": {},
   "outputs": [
    {
     "ename": "NameError",
     "evalue": "name 'ROWS' is not defined",
     "output_type": "error",
     "traceback": [
      "\u001b[1;31m---------------------------------------------------------------------------\u001b[0m",
      "\u001b[1;31mNameError\u001b[0m                                 Traceback (most recent call last)",
      "\u001b[1;32m<ipython-input-18-b9a0a9f06b27>\u001b[0m in \u001b[0;36m<module>\u001b[1;34m\u001b[0m\n\u001b[1;32m----> 1\u001b[1;33m \u001b[0mX\u001b[0m\u001b[1;33m=\u001b[0m\u001b[0mROWS\u001b[0m \u001b[1;33m(\u001b[0m\u001b[1;36m1\u001b[0m\u001b[1;33m)\u001b[0m\u001b[1;33m\u001b[0m\u001b[1;33m\u001b[0m\u001b[0m\n\u001b[0m\u001b[0;32m      2\u001b[0m \u001b[0mY\u001b[0m\u001b[1;33m=\u001b[0m\u001b[0mCOLUMNS\u001b[0m \u001b[1;33m(\u001b[0m\u001b[1;36m0\u001b[0m\u001b[1;33m)\u001b[0m\u001b[1;33m\u001b[0m\u001b[1;33m\u001b[0m\u001b[0m\n",
      "\u001b[1;31mNameError\u001b[0m: name 'ROWS' is not defined"
     ]
    }
   ],
   "source": [
    "X=ROWS (1)\n",
    "Y=COLUMNS (0)"
   ]
  },
  {
   "cell_type": "code",
   "execution_count": 10,
   "id": "47b094dc",
   "metadata": {},
   "outputs": [
    {
     "name": "stdout",
     "output_type": "stream",
     "text": [
      "Applying amin() function:\n"
     ]
    },
    {
     "data": {
      "text/plain": [
       "array([3, 3, 2])"
      ]
     },
     "execution_count": 10,
     "metadata": {},
     "output_type": "execute_result"
    }
   ],
   "source": [
    "print('Applying amin() function:') \n",
    "np.amin(a,1)"
   ]
  },
  {
   "cell_type": "code",
   "execution_count": 19,
   "id": "59f823e4",
   "metadata": {},
   "outputs": [
    {
     "name": "stdout",
     "output_type": "stream",
     "text": [
      "Applying amin() function again:\n"
     ]
    },
    {
     "data": {
      "text/plain": [
       "array([2, 4, 3])"
      ]
     },
     "execution_count": 19,
     "metadata": {},
     "output_type": "execute_result"
    }
   ],
   "source": [
    "print('Applying amin() function again:') \n",
    "np.amin(a,0) "
   ]
  },
  {
   "cell_type": "code",
   "execution_count": 20,
   "id": "c2ba9674",
   "metadata": {},
   "outputs": [
    {
     "name": "stdout",
     "output_type": "stream",
     "text": [
      "Applying amax() function:\n"
     ]
    },
    {
     "data": {
      "text/plain": [
       "9"
      ]
     },
     "execution_count": 20,
     "metadata": {},
     "output_type": "execute_result"
    }
   ],
   "source": [
    "print('Applying amax() function:') \n",
    "np.amax(a)"
   ]
  },
  {
   "cell_type": "code",
   "execution_count": 21,
   "id": "7ed64022",
   "metadata": {},
   "outputs": [
    {
     "name": "stdout",
     "output_type": "stream",
     "text": [
      "Applying amax() function again:\n"
     ]
    },
    {
     "data": {
      "text/plain": [
       "array([8, 7, 9])"
      ]
     },
     "execution_count": 21,
     "metadata": {},
     "output_type": "execute_result"
    }
   ],
   "source": [
    "print('Applying amax() function again:') \n",
    "np.amax(a, axis = 0)"
   ]
  },
  {
   "cell_type": "markdown",
   "id": "2ca5427a",
   "metadata": {},
   "source": [
    "**numpy.ptp()**\n",
    "- The numpy.ptp() function returns the range (maximum-minimum) of values along an axis."
   ]
  },
  {
   "cell_type": "code",
   "execution_count": 22,
   "id": "a37f4511",
   "metadata": {},
   "outputs": [
    {
     "name": "stdout",
     "output_type": "stream",
     "text": [
      "Our array is:\n"
     ]
    },
    {
     "data": {
      "text/plain": [
       "array([[3, 7, 5],\n",
       "       [8, 4, 3],\n",
       "       [2, 4, 9]])"
      ]
     },
     "execution_count": 22,
     "metadata": {},
     "output_type": "execute_result"
    }
   ],
   "source": [
    "a = np.array([[3,7,5],[8,4,3],[2,4,9]]) \n",
    "\n",
    "print('Our array is:') \n",
    "a"
   ]
  },
  {
   "cell_type": "code",
   "execution_count": 23,
   "id": "fc79aac4",
   "metadata": {},
   "outputs": [
    {
     "name": "stdout",
     "output_type": "stream",
     "text": [
      "Applying ptp() function:\n"
     ]
    },
    {
     "data": {
      "text/plain": [
       "7"
      ]
     },
     "execution_count": 23,
     "metadata": {},
     "output_type": "execute_result"
    }
   ],
   "source": [
    "print('Applying ptp() function:') \n",
    "np.ptp(a) "
   ]
  },
  {
   "cell_type": "code",
   "execution_count": 24,
   "id": "b89bfb26",
   "metadata": {},
   "outputs": [
    {
     "name": "stdout",
     "output_type": "stream",
     "text": [
      "Applying ptp() function along axis 1:\n"
     ]
    },
    {
     "data": {
      "text/plain": [
       "array([4, 5, 7])"
      ]
     },
     "execution_count": 24,
     "metadata": {},
     "output_type": "execute_result"
    }
   ],
   "source": [
    "print('Applying ptp() function along axis 1:') \n",
    "np.ptp(a, axis = 1) "
   ]
  },
  {
   "cell_type": "code",
   "execution_count": 25,
   "id": "75865815",
   "metadata": {},
   "outputs": [
    {
     "name": "stdout",
     "output_type": "stream",
     "text": [
      "Applying ptp() function along axis 0:\n"
     ]
    },
    {
     "data": {
      "text/plain": [
       "array([6, 3, 6])"
      ]
     },
     "execution_count": 25,
     "metadata": {},
     "output_type": "execute_result"
    }
   ],
   "source": [
    "print('Applying ptp() function along axis 0:')\n",
    "np.ptp(a, axis = 0)"
   ]
  },
  {
   "cell_type": "markdown",
   "id": "23e87948",
   "metadata": {},
   "source": [
    "**numpy.percentile()**\n",
    "\n",
    "- Percentile (or a centile) is a measure used in statistics indicating the value below which a given percentage of observations in a group of observations fall. The function numpy.percentile() takes the following arguments.\n",
    "\n",
    "`numpy.percentile(a, q, axis)`\n",
    "\n",
    "a: Input array\n",
    "\t\n",
    "q: The percentile to compute must be between 0-100\n",
    "\t\n",
    "axis: The axis along which the percentile is to be calculated"
   ]
  },
  {
   "cell_type": "code",
   "execution_count": 26,
   "id": "69c3528f",
   "metadata": {},
   "outputs": [
    {
     "data": {
      "text/plain": [
       "array([[30, 40, 70],\n",
       "       [80, 20, 10],\n",
       "       [50, 90, 60]])"
      ]
     },
     "execution_count": 26,
     "metadata": {},
     "output_type": "execute_result"
    }
   ],
   "source": [
    "a = np.array([[30,40,70],[80,20,10],[50,90,60]])\n",
    "a"
   ]
  },
  {
   "cell_type": "code",
   "execution_count": 27,
   "id": "edc0787d",
   "metadata": {},
   "outputs": [
    {
     "name": "stdout",
     "output_type": "stream",
     "text": [
      "Applying percentile() function:\n"
     ]
    },
    {
     "data": {
      "text/plain": [
       "50.0"
      ]
     },
     "execution_count": 27,
     "metadata": {},
     "output_type": "execute_result"
    }
   ],
   "source": [
    "print('Applying percentile() function:') \n",
    "np.percentile(a,50)"
   ]
  },
  {
   "cell_type": "code",
   "execution_count": 28,
   "id": "bb824f85",
   "metadata": {},
   "outputs": [
    {
     "name": "stdout",
     "output_type": "stream",
     "text": [
      "Applying percentile() function along axis 1:\n"
     ]
    },
    {
     "data": {
      "text/plain": [
       "array([40., 20., 60.])"
      ]
     },
     "execution_count": 28,
     "metadata": {},
     "output_type": "execute_result"
    }
   ],
   "source": [
    "print('Applying percentile() function along axis 1:') \n",
    "np.percentile(a,50, axis = 1)"
   ]
  },
  {
   "cell_type": "markdown",
   "id": "a8118d9c",
   "metadata": {},
   "source": [
    "**numpy.median()**\n",
    "\n",
    "- Median is defined as the value separating the higher half of a data sample from the lower half. The **numpy.median()** function is used as shown in the following program.\n",
    "\n",
    "**Example**"
   ]
  },
  {
   "cell_type": "code",
   "execution_count": 30,
   "id": "2391e8b8",
   "metadata": {},
   "outputs": [
    {
     "name": "stdout",
     "output_type": "stream",
     "text": [
      "Our array is:\n"
     ]
    },
    {
     "data": {
      "text/plain": [
       "array([[30, 65, 70],\n",
       "       [80, 95, 10],\n",
       "       [50, 90, 60]])"
      ]
     },
     "execution_count": 30,
     "metadata": {},
     "output_type": "execute_result"
    }
   ],
   "source": [
    "a = np.array([[30,65,70],[80,95,10],[50,90,60]]) \n",
    "\n",
    "print('Our array is:') \n",
    "a   "
   ]
  },
  {
   "cell_type": "code",
   "execution_count": 31,
   "id": "6a959aad",
   "metadata": {},
   "outputs": [
    {
     "name": "stdout",
     "output_type": "stream",
     "text": [
      "Applying median() function:\n"
     ]
    },
    {
     "data": {
      "text/plain": [
       "65.0"
      ]
     },
     "execution_count": 31,
     "metadata": {},
     "output_type": "execute_result"
    }
   ],
   "source": [
    "print('Applying median() function:') \n",
    "np.median(a) "
   ]
  },
  {
   "cell_type": "code",
   "execution_count": 32,
   "id": "e70d1a1b",
   "metadata": {},
   "outputs": [
    {
     "name": "stdout",
     "output_type": "stream",
     "text": [
      "Applying median() function along axis 0:\n"
     ]
    },
    {
     "data": {
      "text/plain": [
       "array([50., 90., 60.])"
      ]
     },
     "execution_count": 32,
     "metadata": {},
     "output_type": "execute_result"
    }
   ],
   "source": [
    "print('Applying median() function along axis 0:') \n",
    "np.median(a, axis = 0)"
   ]
  },
  {
   "cell_type": "code",
   "execution_count": 33,
   "id": "2a308905",
   "metadata": {},
   "outputs": [
    {
     "name": "stdout",
     "output_type": "stream",
     "text": [
      "Applying median() function along axis 0:\n"
     ]
    },
    {
     "data": {
      "text/plain": [
       "array([65., 80., 60.])"
      ]
     },
     "execution_count": 33,
     "metadata": {},
     "output_type": "execute_result"
    }
   ],
   "source": [
    "print('Applying median() function along axis 0:') \n",
    "np.median(a, axis = 1)"
   ]
  },
  {
   "cell_type": "markdown",
   "id": "91f89f24",
   "metadata": {},
   "source": [
    "**numpy.mean()**\n",
    "\n",
    "- Arithmetic mean is the sum of elements along an axis divided by the number of elements. The **numpy.mean()** function returns the arithmetic mean of elements in the array. If the axis is mentioned, it is calculated along it.\n",
    "\n",
    "**Example**\n"
   ]
  },
  {
   "cell_type": "code",
   "execution_count": 34,
   "id": "31dd8523",
   "metadata": {},
   "outputs": [
    {
     "name": "stdout",
     "output_type": "stream",
     "text": [
      "Our array is:\n"
     ]
    },
    {
     "data": {
      "text/plain": [
       "array([[1, 2, 3],\n",
       "       [3, 4, 5],\n",
       "       [4, 5, 6]])"
      ]
     },
     "execution_count": 34,
     "metadata": {},
     "output_type": "execute_result"
    }
   ],
   "source": [
    "a = np.array([[1,2,3],[3,4,5],[4,5,6]]) \n",
    "\n",
    "print('Our array is:') \n",
    "a   "
   ]
  },
  {
   "cell_type": "code",
   "execution_count": 35,
   "id": "2b02c8d4",
   "metadata": {},
   "outputs": [
    {
     "name": "stdout",
     "output_type": "stream",
     "text": [
      "Applying mean() function:\n",
      "3.6666666666666665\n"
     ]
    }
   ],
   "source": [
    "print('Applying mean() function:') \n",
    "print(np.mean(a)) "
   ]
  },
  {
   "cell_type": "code",
   "execution_count": 36,
   "id": "ad150d2b",
   "metadata": {},
   "outputs": [
    {
     "name": "stdout",
     "output_type": "stream",
     "text": [
      "Applying mean() function along axis 0:\n"
     ]
    },
    {
     "data": {
      "text/plain": [
       "array([2.66666667, 3.66666667, 4.66666667])"
      ]
     },
     "execution_count": 36,
     "metadata": {},
     "output_type": "execute_result"
    }
   ],
   "source": [
    "print('Applying mean() function along axis 0:') \n",
    "np.mean(a, axis = 0)"
   ]
  },
  {
   "cell_type": "code",
   "execution_count": 37,
   "id": "d6b2c240",
   "metadata": {},
   "outputs": [
    {
     "name": "stdout",
     "output_type": "stream",
     "text": [
      "Applying mean() function along axis 1:\n"
     ]
    },
    {
     "data": {
      "text/plain": [
       "array([2., 4., 5.])"
      ]
     },
     "execution_count": 37,
     "metadata": {},
     "output_type": "execute_result"
    }
   ],
   "source": [
    "print('Applying mean() function along axis 1:') \n",
    "np.mean(a, axis = 1)"
   ]
  },
  {
   "cell_type": "markdown",
   "id": "3bd71cd8",
   "metadata": {},
   "source": [
    "**numpy.average()**\n",
    "\n",
    "- Weighted average is an average resulting from the multiplication of each component by a factor reflecting its importance. The numpy.average() function computes the weighted average of elements in an array according to their respective weight given in another array. The function can have an axis parameter. If the axis is not specified, the array is flattened.\n",
    "\n",
    "- Considering an array [1,2,3,4] and corresponding weights [4,3,2,1], the weighted average is calculated by adding the product of the corresponding elements and dividing the sum by the sum of weights.\n",
    "\n",
    "`Weighted average = (1*4+2*3+3*2+4*1)/(4+3+2+1)`\n",
    "\n",
    "**Example**"
   ]
  },
  {
   "cell_type": "code",
   "execution_count": 38,
   "id": "45086103",
   "metadata": {},
   "outputs": [
    {
     "name": "stdout",
     "output_type": "stream",
     "text": [
      "Our array is:\n"
     ]
    },
    {
     "data": {
      "text/plain": [
       "array([1, 2, 3, 4])"
      ]
     },
     "execution_count": 38,
     "metadata": {},
     "output_type": "execute_result"
    }
   ],
   "source": [
    "a = np.array([1,2,3,4]) \n",
    "\n",
    "print('Our array is:') \n",
    "a  "
   ]
  },
  {
   "cell_type": "code",
   "execution_count": 39,
   "id": "ce1f3696",
   "metadata": {},
   "outputs": [
    {
     "name": "stdout",
     "output_type": "stream",
     "text": [
      "Applying average() function:\n"
     ]
    },
    {
     "data": {
      "text/plain": [
       "2.5"
      ]
     },
     "execution_count": 39,
     "metadata": {},
     "output_type": "execute_result"
    }
   ],
   "source": [
    "print('Applying average() function:') \n",
    "np.average(a) "
   ]
  },
  {
   "cell_type": "code",
   "execution_count": 40,
   "id": "1e378c8d",
   "metadata": {},
   "outputs": [
    {
     "data": {
      "text/plain": [
       "2.5"
      ]
     },
     "execution_count": 40,
     "metadata": {},
     "output_type": "execute_result"
    }
   ],
   "source": [
    "np.mean(a)"
   ]
  },
  {
   "cell_type": "code",
   "execution_count": 45,
   "id": "6cd6533e",
   "metadata": {},
   "outputs": [],
   "source": [
    "# this is same as mean when weight is not specified \n",
    "wts = np.array([4,3,2,1]) "
   ]
  },
  {
   "cell_type": "code",
   "execution_count": 44,
   "id": "48664c68",
   "metadata": {},
   "outputs": [
    {
     "data": {
      "text/plain": [
       "2.5"
      ]
     },
     "execution_count": 44,
     "metadata": {},
     "output_type": "execute_result"
    }
   ],
   "source": [
    "np.mean(wts)"
   ]
  },
  {
   "cell_type": "code",
   "execution_count": 46,
   "id": "72e08085",
   "metadata": {},
   "outputs": [
    {
     "name": "stdout",
     "output_type": "stream",
     "text": [
      "Applying average() function again:\n"
     ]
    },
    {
     "data": {
      "text/plain": [
       "2.0"
      ]
     },
     "execution_count": 46,
     "metadata": {},
     "output_type": "execute_result"
    }
   ],
   "source": [
    "print('Applying average() function again:') \n",
    "np.average(a,weights = wts)"
   ]
  },
  {
   "cell_type": "code",
   "execution_count": 47,
   "id": "1c47301c",
   "metadata": {},
   "outputs": [
    {
     "name": "stdout",
     "output_type": "stream",
     "text": [
      "Sum of weights\n"
     ]
    },
    {
     "data": {
      "text/plain": [
       "(2.0, 10.0)"
      ]
     },
     "execution_count": 47,
     "metadata": {},
     "output_type": "execute_result"
    }
   ],
   "source": [
    "# Returns the sum of weights, if the returned parameter is set to True. \n",
    "print('Sum of weights') \n",
    "np.average([1,2,3, 4],weights = [4,3,2,1], returned = True)"
   ]
  },
  {
   "cell_type": "markdown",
   "id": "472b7d18",
   "metadata": {},
   "source": [
    "##### Task"
   ]
  },
  {
   "cell_type": "markdown",
   "id": "787a0549",
   "metadata": {},
   "source": [
    "1. Write a NumPy program to create an element-wise comparison (equal, equal within a tolerance) of two given arrays."
   ]
  },
  {
   "cell_type": "code",
   "execution_count": 51,
   "id": "09820795",
   "metadata": {},
   "outputs": [
    {
     "name": "stdout",
     "output_type": "stream",
     "text": [
      "[  73   80   85   90  150 -134  121  -11   62  100]\n",
      "[  71.         78.         85.         91.        152.       -136.\n",
      "  123.        -14.         62.        100.000001]\n",
      "Comparison - equal:\n",
      "[False False  True False False False False False  True False]\n",
      "Comparison - equal within a tolerance:\n",
      "False\n"
     ]
    }
   ],
   "source": [
    "a = np.array([73, 80, 85, 90, 150, -134, 121, -11, 62, 100])\n",
    "b = np.array([71, 78, 85, 91, 152, -136, 123, -14, 62, 100.000001])\n",
    "print(a)\n",
    "print(b)\n",
    "print(\"Comparison - equal:\")\n",
    "print(np.equal(a, b))\n",
    "print(\"Comparison - equal within a tolerance:\")\n",
    "print(np.allclose(a, b))\n"
   ]
  },
  {
   "cell_type": "markdown",
   "id": "02b2eeac",
   "metadata": {},
   "source": [
    "2. Write a NumPy program to create an array with the values 1, 7, 13, 105 and determine the size of the memory occupied by the array."
   ]
  },
  {
   "cell_type": "code",
   "execution_count": 52,
   "id": "dc0516de",
   "metadata": {},
   "outputs": [
    {
     "name": "stdout",
     "output_type": "stream",
     "text": [
      "Original array:\n",
      "[  1   7  13 105]\n",
      "Size of the memory occupied by the said array:\n",
      "16 bytes\n"
     ]
    }
   ],
   "source": [
    "a = np.array([1, 7, 13, 105])\n",
    "print(\"Original array:\")\n",
    "print(a)\n",
    "print(\"Size of the memory occupied by the said array:\")\n",
    "print(\"%d bytes\" % (a.size * a.itemsize))\n"
   ]
  },
  {
   "cell_type": "code",
   "execution_count": null,
   "id": "8dc05284",
   "metadata": {},
   "outputs": [],
   "source": []
  }
 ],
 "metadata": {
  "kernelspec": {
   "display_name": "Python 3",
   "language": "python",
   "name": "python3"
  },
  "language_info": {
   "codemirror_mode": {
    "name": "ipython",
    "version": 3
   },
   "file_extension": ".py",
   "mimetype": "text/x-python",
   "name": "python",
   "nbconvert_exporter": "python",
   "pygments_lexer": "ipython3",
   "version": "3.8.8"
  }
 },
 "nbformat": 4,
 "nbformat_minor": 5
}
