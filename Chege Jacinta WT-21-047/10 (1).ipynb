{
 "cells": [
  {
   "cell_type": "code",
   "execution_count": 1,
   "id": "cb63092f",
   "metadata": {},
   "outputs": [],
   "source": [
    "# this code conceals irrelevant warning messages\n",
    "import warnings\n",
    "warnings.simplefilter('ignore', FutureWarning)\n",
    "import numpy as np"
   ]
  },
  {
   "cell_type": "code",
   "execution_count": 2,
   "id": "9a1885de",
   "metadata": {},
   "outputs": [
    {
     "name": "stdout",
     "output_type": "stream",
     "text": [
      "<class 'list'>\n",
      "[3, 5, 6, 8, 2, 9]\n"
     ]
    }
   ],
   "source": [
    "elements = [3,5,6,8,2,9]\n",
    "print(type(elements))\n",
    "print(elements)"
   ]
  },
  {
   "cell_type": "code",
   "execution_count": 3,
   "id": "8c5ca361",
   "metadata": {},
   "outputs": [
    {
     "name": "stdout",
     "output_type": "stream",
     "text": [
      "<class 'numpy.ndarray'>\n",
      "[3 5 6 8 2 9]\n"
     ]
    }
   ],
   "source": [
    "elements = np.array(elements)\n",
    "print(type(elements))\n",
    "print(elements)"
   ]
  },
  {
   "cell_type": "markdown",
   "id": "a5bf2e8b",
   "metadata": {},
   "source": [
    "#### NumPy - Array Attributes\n",
    "\n",
    "ndarray.shape This array attribute returns a tuple consisting of array dimensions. It can also be used to resize the array\n",
    "\n",
    "**Examples**"
   ]
  },
  {
   "cell_type": "code",
   "execution_count": 4,
   "id": "b259e1e2",
   "metadata": {},
   "outputs": [
    {
     "name": "stdout",
     "output_type": "stream",
     "text": [
      "(2, 3)\n"
     ]
    },
    {
     "data": {
      "text/plain": [
       "array([[1, 2, 3],\n",
       "       [4, 5, 6]])"
      ]
     },
     "execution_count": 4,
     "metadata": {},
     "output_type": "execute_result"
    }
   ],
   "source": [
    "a = np.array([[1,2,3],[4,5,6]]) \n",
    "print (a.shape)\n",
    "a"
   ]
  },
  {
   "cell_type": "code",
   "execution_count": 5,
   "id": "bc335e97",
   "metadata": {},
   "outputs": [
    {
     "name": "stdout",
     "output_type": "stream",
     "text": [
      "[[1 2]\n",
      " [3 4]\n",
      " [5 6]]\n"
     ]
    }
   ],
   "source": [
    "# this resizes the ndarray \n",
    "\n",
    "a = np.array([[1,2,3],[4,5,6]]) \n",
    "a.shape = (3,2) \n",
    "print (a)"
   ]
  },
  {
   "cell_type": "markdown",
   "id": "e9b8d4aa",
   "metadata": {},
   "source": [
    "NumPy also provides a reshape function to resize an array."
   ]
  },
  {
   "cell_type": "code",
   "execution_count": 6,
   "id": "443814b0",
   "metadata": {},
   "outputs": [
    {
     "name": "stdout",
     "output_type": "stream",
     "text": [
      "[[1 2]\n",
      " [5 4]\n",
      " [5 6]]\n"
     ]
    }
   ],
   "source": [
    "a = np.array([[1,2,5],[4,5,6]]) \n",
    "b = a.reshape(3,2) \n",
    "print (b)"
   ]
  },
  {
   "cell_type": "markdown",
   "id": "e0468607",
   "metadata": {},
   "source": [
    "#### ndarray.ndim\n",
    "\n",
    "This array attribute returns the number of array dimensions.\n",
    "\n",
    "`Example`"
   ]
  },
  {
   "cell_type": "code",
   "execution_count": 7,
   "id": "b796c091",
   "metadata": {},
   "outputs": [
    {
     "data": {
      "text/plain": [
       "1"
      ]
     },
     "execution_count": 7,
     "metadata": {},
     "output_type": "execute_result"
    }
   ],
   "source": [
    "elements.ndim"
   ]
  },
  {
   "cell_type": "code",
   "execution_count": 8,
   "id": "76a61d03",
   "metadata": {},
   "outputs": [
    {
     "name": "stdout",
     "output_type": "stream",
     "text": [
      "[ 0  1  2  3  4  5  6  7  8  9 10 11 12 13 14 15 16 17 18 19 20 21 22 23]\n"
     ]
    }
   ],
   "source": [
    "# an array of evenly spaced numbers \n",
    "a = np.arange(24) \n",
    "print (a)"
   ]
  },
  {
   "cell_type": "code",
   "execution_count": 9,
   "id": "0b3c50f7",
   "metadata": {},
   "outputs": [
    {
     "name": "stdout",
     "output_type": "stream",
     "text": [
      "1\n",
      "[[[ 0  1  2]\n",
      "  [ 3  4  5]\n",
      "  [ 6  7  8]\n",
      "  [ 9 10 11]]\n",
      "\n",
      " [[12 13 14]\n",
      "  [15 16 17]\n",
      "  [18 19 20]\n",
      "  [21 22 23]]]\n",
      "3\n"
     ]
    }
   ],
   "source": [
    "# this is one dimensional array \n",
    "a = np.arange(24) \n",
    "print(a.ndim)  \n",
    "\n",
    "# now reshape it \n",
    "b = a.reshape(2,4,3) \n",
    "print (b) \n",
    "# b is having three dimensions\n",
    "print(b.ndim)"
   ]
  },
  {
   "cell_type": "code",
   "execution_count": 10,
   "id": "72e6af43",
   "metadata": {},
   "outputs": [
    {
     "data": {
      "text/plain": [
       "17"
      ]
     },
     "execution_count": 10,
     "metadata": {},
     "output_type": "execute_result"
    }
   ],
   "source": [
    "b[1][1][2]"
   ]
  },
  {
   "cell_type": "code",
   "execution_count": 11,
   "id": "31cf7a9b",
   "metadata": {},
   "outputs": [
    {
     "name": "stdout",
     "output_type": "stream",
     "text": [
      "[0. 0. 0. 0. 0.]\n"
     ]
    }
   ],
   "source": [
    "# array of five zeros. Default dtype is float \n",
    "x = np.zeros(5) \n",
    "print (x)"
   ]
  },
  {
   "cell_type": "code",
   "execution_count": 12,
   "id": "8f3e288c",
   "metadata": {},
   "outputs": [
    {
     "name": "stdout",
     "output_type": "stream",
     "text": [
      "[1. 1. 1. 1. 1.]\n"
     ]
    }
   ],
   "source": [
    "# array of five ones. Default dtype is float  \n",
    "x = np.ones(5) \n",
    "print (x)"
   ]
  },
  {
   "cell_type": "markdown",
   "id": "7e633c4b",
   "metadata": {},
   "source": [
    "#### NumPy - Array From Existing Data\n",
    "\n",
    "**numpy.asarray**\n",
    "This function is similar to numpy.array except for the fact that it has fewer parameters. This routine is useful for converting Python sequence into ndarray."
   ]
  },
  {
   "cell_type": "code",
   "execution_count": 13,
   "id": "5e8e397a",
   "metadata": {},
   "outputs": [
    {
     "name": "stdout",
     "output_type": "stream",
     "text": [
      "[1 2 3]\n"
     ]
    }
   ],
   "source": [
    "# convert list to ndarray \n",
    "\n",
    "x = [1,2,3]\n",
    "a = np.asarray(x) \n",
    "print (a)"
   ]
  },
  {
   "cell_type": "code",
   "execution_count": 14,
   "id": "80538288",
   "metadata": {},
   "outputs": [
    {
     "name": "stdout",
     "output_type": "stream",
     "text": [
      "[(1, 2, 3) (4, 5)]\n"
     ]
    },
    {
     "name": "stderr",
     "output_type": "stream",
     "text": [
      "C:\\ProgramData\\Anaconda3\\lib\\site-packages\\numpy\\core\\_asarray.py:102: VisibleDeprecationWarning: Creating an ndarray from ragged nested sequences (which is a list-or-tuple of lists-or-tuples-or ndarrays with different lengths or shapes) is deprecated. If you meant to do this, you must specify 'dtype=object' when creating the ndarray.\n",
      "  return array(a, dtype, copy=False, order=order)\n"
     ]
    }
   ],
   "source": [
    "# ndarray from list of tuples \n",
    "\n",
    "x = [(1,2,3),(4,5)] \n",
    "a = np.asarray(x) \n",
    "print (a)"
   ]
  },
  {
   "cell_type": "markdown",
   "id": "9bec5f04",
   "metadata": {},
   "source": [
    "#### numpy.frombuffer\n",
    "This function interprets a buffer as one-dimensional array. Any object that exposes the buffer interface is used as parameter to return an ndarray.\n",
    "\n",
    "`numpy.frombuffer(buffer, dtype = float, count = -1, offset = 0)`"
   ]
  },
  {
   "cell_type": "markdown",
   "id": "9b753599",
   "metadata": {},
   "source": [
    "##### The constructor takes the following parameters.\n",
    "\n",
    "Sr.No.\tParameter & Description\n",
    "1. buffer\n",
    "\n",
    "Any object that exposes buffer interface\n",
    "\n",
    "2. dtype\n",
    "\n",
    "Data type of returned ndarray. Defaults to float\n",
    "\n",
    "3. count\n",
    "\n",
    "The number of items to read, default -1 means all data\n",
    "\n",
    "4. offset\n",
    "\n",
    "The starting position to read from. Default is 0"
   ]
  },
  {
   "cell_type": "markdown",
   "id": "750e056f",
   "metadata": {},
   "source": [
    "#### Operations on Numpy Array"
   ]
  },
  {
   "cell_type": "code",
   "execution_count": 15,
   "id": "7edbf9ed",
   "metadata": {},
   "outputs": [
    {
     "name": "stdout",
     "output_type": "stream",
     "text": [
      "[[1 2 3]\n",
      " [4 1 5]]\n"
     ]
    }
   ],
   "source": [
    "# 2D Numpy Array\n",
    "a = np.array([[1,2,3], [4,1,5]]) \n",
    "print (a)"
   ]
  },
  {
   "cell_type": "code",
   "execution_count": 16,
   "id": "55393343",
   "metadata": {},
   "outputs": [
    {
     "data": {
      "text/plain": [
       "array([[4, 5, 6],\n",
       "       [7, 4, 8]])"
      ]
     },
     "execution_count": 16,
     "metadata": {},
     "output_type": "execute_result"
    }
   ],
   "source": [
    "# Addition\n",
    "a+3"
   ]
  },
  {
   "cell_type": "code",
   "execution_count": 17,
   "id": "e44f2da3",
   "metadata": {},
   "outputs": [
    {
     "data": {
      "text/plain": [
       "array([[ 2,  4,  6],\n",
       "       [ 8,  2, 10]])"
      ]
     },
     "execution_count": 17,
     "metadata": {},
     "output_type": "execute_result"
    }
   ],
   "source": [
    "# Multiplication\n",
    "a*2"
   ]
  },
  {
   "cell_type": "code",
   "execution_count": 18,
   "id": "bcb230ab",
   "metadata": {},
   "outputs": [
    {
     "data": {
      "text/plain": [
       "array([[-1,  0,  1],\n",
       "       [ 2, -1,  3]])"
      ]
     },
     "execution_count": 18,
     "metadata": {},
     "output_type": "execute_result"
    }
   ],
   "source": [
    "# Subtraction\n",
    "a-2"
   ]
  },
  {
   "cell_type": "code",
   "execution_count": 19,
   "id": "95dc5576",
   "metadata": {},
   "outputs": [
    {
     "data": {
      "text/plain": [
       "array([[0.33333333, 0.66666667, 1.        ],\n",
       "       [1.33333333, 0.33333333, 1.66666667]])"
      ]
     },
     "execution_count": 19,
     "metadata": {},
     "output_type": "execute_result"
    }
   ],
   "source": [
    "# Division\n",
    "a/3"
   ]
  },
  {
   "cell_type": "markdown",
   "id": "c23aed51",
   "metadata": {},
   "source": [
    "**NumPy - Indexing & Slicing**\n",
    "\n",
    "Contents of ndarray object can be accessed and modified by indexing or slicing, just like Python's in-built container objects.\n",
    "\n",
    "As mentioned earlier, items in ndarray object follows zero-based index. Three types of indexing methods are available − field access, basic slicing and advanced indexing.\n",
    "\n",
    "Basic slicing is an extension of Python's basic concept of slicing to n dimensions. A Python slice object is constructed by giving **start, stop, and step** parameters to the built-in slice function. This slice object is passed to the array to extract a part of array."
   ]
  },
  {
   "cell_type": "code",
   "execution_count": 20,
   "id": "731203fd",
   "metadata": {},
   "outputs": [
    {
     "name": "stdout",
     "output_type": "stream",
     "text": [
      "[0 1 2 3 4 5 6 7 8 9]\n",
      "[2 4 6]\n"
     ]
    }
   ],
   "source": [
    "a = np.arange(10) \n",
    "print(a)\n",
    "s = slice(2,7,2) \n",
    "print(a[s])"
   ]
  },
  {
   "cell_type": "markdown",
   "id": "25f42512",
   "metadata": {},
   "source": [
    "In the above example, an ndarray object is prepared by arange() function. Then a slice object is defined with start, stop, and step values 2, 7, and 2 respectively. When this slice object is passed to the ndarray, a part of it starting with index 2 up to 7 with a step of 2 is sliced.\n",
    "\n",
    "The same result can also be obtained by giving the slicing parameters separated by a colon : (start:stop:step) directly to the ndarray object."
   ]
  },
  {
   "cell_type": "code",
   "execution_count": 21,
   "id": "bfb92868",
   "metadata": {},
   "outputs": [
    {
     "name": "stdout",
     "output_type": "stream",
     "text": [
      "[0 1 2 3 4 5 6 7 8 9]\n",
      "[2 4 6]\n"
     ]
    }
   ],
   "source": [
    "a = np.arange(10) \n",
    "print(a)\n",
    "b = a[2:7:2] \n",
    "print (b)"
   ]
  },
  {
   "cell_type": "code",
   "execution_count": 22,
   "id": "850b095d",
   "metadata": {},
   "outputs": [
    {
     "name": "stdout",
     "output_type": "stream",
     "text": [
      "[[1 2 3]\n",
      " [3 4 5]\n",
      " [4 5 6]]\n",
      "Now we will slice the array from the index a[1:]\n",
      "[[3 4 5]\n",
      " [4 5 6]]\n"
     ]
    }
   ],
   "source": [
    "a = np.array([[1,2,3],[3,4,5],[4,5,6]]) \n",
    "print (a ) \n",
    "\n",
    "# slice items starting from index\n",
    "print('Now we will slice the array from the index a[1:]') \n",
    "print(a[1:])"
   ]
  },
  {
   "cell_type": "markdown",
   "id": "2c9d0f87",
   "metadata": {},
   "source": [
    "#### Numpy 2D Array"
   ]
  },
  {
   "cell_type": "code",
   "execution_count": 23,
   "id": "3a4bd09f",
   "metadata": {},
   "outputs": [
    {
     "name": "stdout",
     "output_type": "stream",
     "text": [
      "[[1 2 3]\n",
      " [3 4 5]]\n"
     ]
    }
   ],
   "source": [
    "a = np.array([[1,2,3],[3,4,5]])\n",
    "print(a)"
   ]
  },
  {
   "cell_type": "code",
   "execution_count": 24,
   "id": "54b2276b",
   "metadata": {},
   "outputs": [
    {
     "name": "stdout",
     "output_type": "stream",
     "text": [
      "[[1 2 3]\n",
      " [4 1 5]]\n"
     ]
    }
   ],
   "source": [
    "a = np.array([[1,2,3], [4,1,5]]) \n",
    "print (a)"
   ]
  },
  {
   "cell_type": "code",
   "execution_count": 25,
   "id": "bdd75fdb",
   "metadata": {},
   "outputs": [
    {
     "data": {
      "text/plain": [
       "array([[4, 5, 6],\n",
       "       [7, 4, 8]])"
      ]
     },
     "execution_count": 25,
     "metadata": {},
     "output_type": "execute_result"
    }
   ],
   "source": [
    "# Addition\n",
    "a+3"
   ]
  },
  {
   "cell_type": "code",
   "execution_count": 26,
   "id": "68598b27",
   "metadata": {},
   "outputs": [
    {
     "data": {
      "text/plain": [
       "array([[0.33333333, 0.66666667, 1.        ],\n",
       "       [1.33333333, 0.33333333, 1.66666667]])"
      ]
     },
     "execution_count": 26,
     "metadata": {},
     "output_type": "execute_result"
    }
   ],
   "source": [
    "# Division\n",
    "a/3"
   ]
  },
  {
   "cell_type": "markdown",
   "id": "0de4c500",
   "metadata": {},
   "source": [
    "##### Task"
   ]
  },
  {
   "cell_type": "markdown",
   "id": "248b4a1e",
   "metadata": {},
   "source": [
    "1. Write a NumPy program to test element-wise for NaN of a given array."
   ]
  },
  {
   "cell_type": "code",
   "execution_count": 27,
   "id": "929f0a58",
   "metadata": {},
   "outputs": [
    {
     "name": "stdout",
     "output_type": "stream",
     "text": [
      "[ 2.  0. nan inf]\n",
      "Test element-wise for NaN:\n",
      "[[False False False]\n",
      " [False False False]]\n"
     ]
    }
   ],
   "source": [
    "c = np.array([2, 0, np.nan, np.inf])\n",
    "print(c)\n",
    "print(\"Test element-wise for NaN:\")\n",
    "print(np.isnan(a))"
   ]
  },
  {
   "cell_type": "markdown",
   "id": "1a7c5ff1",
   "metadata": {},
   "source": [
    "2. Write a NumPy program to test element-wise for complex number, real number of a given array. Also test whether a given number is a scalar type or not."
   ]
  },
  {
   "cell_type": "code",
   "execution_count": 28,
   "id": "31cd87c0",
   "metadata": {},
   "outputs": [
    {
     "name": "stdout",
     "output_type": "stream",
     "text": [
      "[1. +1.j 1. +0.j 5.6+0.j 4. +0.j 3. +0.j 0. +1.j]\n",
      "Checking for complex number:\n",
      "[ True False False False False  True]\n",
      "Checking for real number:\n",
      "[False  True  True  True  True False]\n",
      "Checking for scalar type:\n",
      "True\n",
      "False\n"
     ]
    }
   ],
   "source": [
    "d = np.array([1+1j, 1+0j, 5.6, 4, 3, 1j])\n",
    "print(d)\n",
    "print(\"Checking for complex number:\")\n",
    "print(np.iscomplex(d))\n",
    "print(\"Checking for real number:\")\n",
    "print(np.isreal(d))\n",
    "print(\"Checking for scalar type:\")\n",
    "print(np.isscalar(3.1))\n",
    "print(np.isscalar([3.1]))"
   ]
  },
  {
   "cell_type": "code",
   "execution_count": null,
   "id": "d50537dd",
   "metadata": {},
   "outputs": [],
   "source": []
  }
 ],
 "metadata": {
  "kernelspec": {
   "display_name": "Python 3",
   "language": "python",
   "name": "python3"
  },
  "language_info": {
   "codemirror_mode": {
    "name": "ipython",
    "version": 3
   },
   "file_extension": ".py",
   "mimetype": "text/x-python",
   "name": "python",
   "nbconvert_exporter": "python",
   "pygments_lexer": "ipython3",
   "version": "3.8.8"
  }
 },
 "nbformat": 4,
 "nbformat_minor": 5
}
