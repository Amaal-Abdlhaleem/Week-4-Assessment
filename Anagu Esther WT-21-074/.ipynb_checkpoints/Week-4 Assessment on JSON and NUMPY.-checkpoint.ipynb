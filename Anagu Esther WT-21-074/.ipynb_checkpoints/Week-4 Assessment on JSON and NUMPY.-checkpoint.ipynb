{
 "cells": [
  {
   "cell_type": "markdown",
   "id": "fd4d7ec3",
   "metadata": {},
   "source": [
    "# Assessment - 4 Tasks"
   ]
  },
  {
   "cell_type": "markdown",
   "id": "b94aab5e",
   "metadata": {},
   "source": [
    "**1. Write a NumPy program to test whether none of the elements of a given array is zero**"
   ]
  },
  {
   "cell_type": "code",
   "execution_count": 8,
   "id": "a566ed2a",
   "metadata": {},
   "outputs": [],
   "source": [
    "import numpy as np"
   ]
  },
  {
   "cell_type": "code",
   "execution_count": 4,
   "id": "edf26354",
   "metadata": {},
   "outputs": [
    {
     "name": "stdout",
     "output_type": "stream",
     "text": [
      "The original array is:\n"
     ]
    },
    {
     "data": {
      "text/plain": [
       "array([3, 4, 7, 3, 0, 8])"
      ]
     },
     "execution_count": 4,
     "metadata": {},
     "output_type": "execute_result"
    }
   ],
   "source": [
    "a = np.array([3,4,7,3,0,8])\n",
    "print(\"The original array is:\")\n",
    "a"
   ]
  },
  {
   "cell_type": "markdown",
   "id": "1db33209",
   "metadata": {},
   "source": [
    "*However, to test whether none of the elements of a given array is zero:*"
   ]
  },
  {
   "cell_type": "code",
   "execution_count": 5,
   "id": "81a2054d",
   "metadata": {},
   "outputs": [
    {
     "name": "stdout",
     "output_type": "stream",
     "text": [
      "3 is not a zero value.\n",
      "4 is not a zero value.\n",
      "7 is not a zero value.\n",
      "3 is not a zero value.\n",
      "0 is a zero value.\n",
      "8 is not a zero value.\n"
     ]
    }
   ],
   "source": [
    "for elements in a:\n",
    "    if elements == 0:\n",
    "        print(elements,\"is a zero value.\")\n",
    "    else:\n",
    "        print(elements, \"is not a zero value.\")"
   ]
  },
  {
   "cell_type": "markdown",
   "id": "446476f2",
   "metadata": {},
   "source": [
    "**2. Write a NumPy program to test whether any of the elements of a given array is non-zero.**"
   ]
  },
  {
   "cell_type": "code",
   "execution_count": 6,
   "id": "031120fc",
   "metadata": {},
   "outputs": [
    {
     "name": "stdout",
     "output_type": "stream",
     "text": [
      "The original array of b is:\n"
     ]
    },
    {
     "data": {
      "text/plain": [
       "array([  5,  10,   0,   0,   3, 500])"
      ]
     },
     "execution_count": 6,
     "metadata": {},
     "output_type": "execute_result"
    }
   ],
   "source": [
    "b = np.array([5,10,0,0,3,500])\n",
    "print(\"The original array of b is:\")\n",
    "b"
   ]
  },
  {
   "cell_type": "markdown",
   "id": "bdb4262b",
   "metadata": {},
   "source": [
    "*However, to test whether any of the elements of a given array is non-zero:*"
   ]
  },
  {
   "cell_type": "code",
   "execution_count": 9,
   "id": "2f11b3b5",
   "metadata": {},
   "outputs": [
    {
     "name": "stdout",
     "output_type": "stream",
     "text": [
      "5 is non-zero\n",
      "10 is non-zero\n",
      "0 is a zero value\n",
      "0 is a zero value\n",
      "3 is non-zero\n",
      "500 is non-zero\n"
     ]
    }
   ],
   "source": [
    "for items in b:\n",
    "    if items != 0:\n",
    "        print( items, \"is non-zero\")\n",
    "    else:\n",
    "        print(items, \"is a zero value\")"
   ]
  },
  {
   "cell_type": "markdown",
   "id": "d4ab2303",
   "metadata": {},
   "source": [
    "**3. Write a NumPy program to test a given array element-wise for finiteness (not infinity or not a Number).**"
   ]
  },
  {
   "cell_type": "code",
   "execution_count": 13,
   "id": "2d0ff599",
   "metadata": {},
   "outputs": [
    {
     "name": "stdout",
     "output_type": "stream",
     "text": [
      "Index: 0 is finite: True\n",
      "Index: 1 is finite: True\n",
      "Index: 2 is not a number and is infinite: False\n",
      "Index: 3 is not a number and is infinite: False\n",
      "Index: 4 is finite: True\n"
     ]
    }
   ],
   "source": [
    "c = np.array([5,6,np.nan,np.inf,8])\n",
    "c = np.isfinite(c)\n",
    "for index, elements in enumerate(c):\n",
    "    if elements == True:\n",
    "        print('Index:', index, \"is finite:\",elements)\n",
    "    else:\n",
    "        print('Index:', index, \"is not a number and is infinite:\", elements)"
   ]
  },
  {
   "cell_type": "markdown",
   "id": "d96a443b",
   "metadata": {},
   "source": [
    "**4. Write a NumPy program to test element-wise for positive or negative infinity.**"
   ]
  },
  {
   "cell_type": "code",
   "execution_count": 17,
   "id": "6593d573",
   "metadata": {},
   "outputs": [
    {
     "name": "stdout",
     "output_type": "stream",
     "text": [
      "The original array of d is:\n"
     ]
    },
    {
     "data": {
      "text/plain": [
       "array([ 50.,  inf, -inf, 250.])"
      ]
     },
     "execution_count": 17,
     "metadata": {},
     "output_type": "execute_result"
    }
   ],
   "source": [
    "d = np.array([50, np.inf, -np.inf, 250])\n",
    "print(\"The original array of d is:\")\n",
    "d"
   ]
  },
  {
   "cell_type": "markdown",
   "id": "bc6f09a8",
   "metadata": {},
   "source": [
    "*However, to test the array element-wisely for positive or negative infinity:*"
   ]
  },
  {
   "cell_type": "code",
   "execution_count": 18,
   "id": "0eb5f0bc",
   "metadata": {},
   "outputs": [
    {
     "name": "stdout",
     "output_type": "stream",
     "text": [
      "When the element in the array is a negative infinity, the Boolean value is: \n",
      "[False False  True False]\n",
      "===================================\n",
      "When the element in the array is a positive infinity, the Boolean value is: \n",
      "[False  True False False]\n"
     ]
    }
   ],
   "source": [
    "print(\"When the element in the array is a negative infinity, the Boolean value is: \")\n",
    "print(np.isneginf(d))\n",
    "print(\"===================================\")\n",
    "print(\"When the element in the array is a positive infinity, the Boolean value is: \")\n",
    "print(np.isposinf(d))"
   ]
  },
  {
   "cell_type": "markdown",
   "id": "cc3db722",
   "metadata": {},
   "source": [
    "**5. Write a NumPy program to test element-wise for NaN of a given array.**"
   ]
  },
  {
   "cell_type": "code",
   "execution_count": 25,
   "id": "b9b9073f",
   "metadata": {},
   "outputs": [
    {
     "name": "stdout",
     "output_type": "stream",
     "text": [
      "The original array of e is:\n"
     ]
    },
    {
     "data": {
      "text/plain": [
       "array([ 1.,  0., nan, inf])"
      ]
     },
     "execution_count": 25,
     "metadata": {},
     "output_type": "execute_result"
    }
   ],
   "source": [
    "e = np.array([1, 0, np.nan, np.inf])\n",
    "print(\"The original array of e is:\")\n",
    "e"
   ]
  },
  {
   "cell_type": "markdown",
   "id": "9d4d3e00",
   "metadata": {},
   "source": [
    "*However, to test the array element-wisely for NaN:*"
   ]
  },
  {
   "cell_type": "code",
   "execution_count": 26,
   "id": "c3988f9d",
   "metadata": {},
   "outputs": [
    {
     "name": "stdout",
     "output_type": "stream",
     "text": [
      "The Boolean values for the test are:\n",
      "[False False  True False]\n"
     ]
    }
   ],
   "source": [
    "print(\"The Boolean values for the test are:\")\n",
    "print(np.isnan(e))"
   ]
  },
  {
   "cell_type": "markdown",
   "id": "9fee626d",
   "metadata": {},
   "source": [
    "**6. Write a NumPy program to test element-wise for complex number, real number of a given array. Also test whether a given number is a scalar type or not.**"
   ]
  },
  {
   "cell_type": "code",
   "execution_count": 99,
   "id": "c7a0e0e4",
   "metadata": {},
   "outputs": [
    {
     "name": "stdout",
     "output_type": "stream",
     "text": [
      "The original array of f1 is:\n"
     ]
    },
    {
     "data": {
      "text/plain": [
       "array([  1. +1.j,   1. +0.j,   7.5+0.j,  50. +0.j, 120. +0.j,   0. +2.j])"
      ]
     },
     "execution_count": 99,
     "metadata": {},
     "output_type": "execute_result"
    }
   ],
   "source": [
    "f1 = np.array([1+1j, 1+0j, 7.5, 50, 120, 2j])\n",
    "print(\"The original array of f1 is:\")\n",
    "f1"
   ]
  },
  {
   "cell_type": "markdown",
   "id": "71ef6b4b",
   "metadata": {},
   "source": [
    "*However, to test element-wise for complex number, real number of the given array:*"
   ]
  },
  {
   "cell_type": "code",
   "execution_count": 100,
   "id": "781087f1",
   "metadata": {},
   "outputs": [
    {
     "name": "stdout",
     "output_type": "stream",
     "text": [
      "True : Index 0 is a complex number\n",
      "False : Index 1 is a real number\n",
      "False : Index 2 is a real number\n",
      "False : Index 3 is a real number\n",
      "False : Index 4 is a real number\n",
      "True : Index 5 is a complex number\n"
     ]
    }
   ],
   "source": [
    "f1 = np.iscomplex(f1)\n",
    "for index, elements in enumerate(f1):\n",
    "    if elements == True:\n",
    "        print(elements, \": Index\", index, \"is a complex number\")\n",
    "    else:\n",
    "        print(elements, \": Index\", index, \"is a real number\")"
   ]
  },
  {
   "cell_type": "markdown",
   "id": "185dc9bd",
   "metadata": {},
   "source": [
    "*However, to test whether a given number is a scalar type or not:*"
   ]
  },
  {
   "cell_type": "code",
   "execution_count": 119,
   "id": "5d7042cb",
   "metadata": {},
   "outputs": [
    {
     "name": "stdout",
     "output_type": "stream",
     "text": [
      "False\n",
      "========\n",
      "True\n",
      "========\n",
      "I discovered that isscalar returns False for lists input but True for a number.\n"
     ]
    }
   ],
   "source": [
    "#The isscalar function takes only one argument.\n",
    "f2 = np.isscalar([0.3])\n",
    "print(f2)\n",
    "print(\"========\")\n",
    "f2b = np.isscalar((0.3))\n",
    "print(f2b)\n",
    "print(\"========\")\n",
    "print(\"I discovered that isscalar returns False for lists input but True for a number.\")"
   ]
  },
  {
   "cell_type": "markdown",
   "id": "9766b447",
   "metadata": {},
   "source": [
    "**7. Write a NumPy program to test whether two arrays are element-wise equal within a tolerance.**"
   ]
  },
  {
   "cell_type": "code",
   "execution_count": 168,
   "id": "9cf5e9dc",
   "metadata": {},
   "outputs": [
    {
     "name": "stdout",
     "output_type": "stream",
     "text": [
      "To test if two arrays are element-wise equal within a tolerance:\n",
      "False\n",
      "True\n",
      "False\n",
      "False\n",
      "True\n"
     ]
    }
   ],
   "source": [
    "print(\"To test if two arrays are element-wise equal within a tolerance:\")\n",
    "print(np.allclose([1e10,1e-7], [1.00001e10,1e-8]))\n",
    "print(np.allclose([1e10,1e-8], [1.00001e10,1e-9]))\n",
    "print(np.allclose([1e10,1e-8], [1.0001e10,1e-9]))\n",
    "print(np.allclose([1.0, np.nan], [1.0, np.nan]))\n",
    "print(np.allclose([1.0, np.nan], [1.0, np.nan], equal_nan=True))\n"
   ]
  },
  {
   "cell_type": "markdown",
   "id": "c449d78a",
   "metadata": {},
   "source": [
    "**8. Write a NumPy program to create an element-wise comparison (greater, greater_equal, less and less_equal) of two given arrays.**"
   ]
  },
  {
   "cell_type": "code",
   "execution_count": 135,
   "id": "7a654e34",
   "metadata": {},
   "outputs": [
    {
     "name": "stdout",
     "output_type": "stream",
     "text": [
      "The original array of x is:\n",
      "[ 5 10]\n",
      "The original array of y is:\n",
      "[ 4 10]\n"
     ]
    }
   ],
   "source": [
    "x = np.array([5, 10])\n",
    "y = np.array([4, 10])\n",
    "print(\"The original array of x is:\")\n",
    "print(x)\n",
    "print(\"The original array of y is:\")\n",
    "print(y)"
   ]
  },
  {
   "cell_type": "code",
   "execution_count": 137,
   "id": "65f746a7",
   "metadata": {},
   "outputs": [
    {
     "name": "stdout",
     "output_type": "stream",
     "text": [
      "To make comparison - greater, of the two arrays, x and y:\n",
      "True : The x array is greater than y\n",
      "False : The y array is greater than x\n",
      "===================================================\n",
      "To make comparison - greater_equal, of the two arrays, x and y:\n",
      "True : The x array is greater than or equal to y\n",
      "True : The x array is greater than or equal to y\n",
      "===================================================\n",
      "To make comparison - less, of the two arrays, x and y:\n",
      "False : The y array is less than x\n",
      "False : The y array is less than x\n",
      "===================================================\n",
      "To make comparison - less_than, of the two arrays, x and y:\n",
      "False : The y array is less than or equal to x\n",
      "True : The x array is less than or equal to y\n"
     ]
    }
   ],
   "source": [
    "print(\"To make comparison - greater, of the two arrays, x and y:\")\n",
    "xy = np.greater(x, y) \n",
    "for elements in xy:\n",
    "    if elements == True:\n",
    "        print(elements, \": The x array is greater than y\")\n",
    "    else:\n",
    "        print(elements, \": The y array is greater than x\")\n",
    "        \n",
    "print(\"===================================================\")\n",
    "\n",
    "print(\"To make comparison - greater_equal, of the two arrays, x and y:\")\n",
    "xy2 = np.greater_equal(x, y) \n",
    "for elements in xy2:\n",
    "    if elements == True:\n",
    "        print(elements, \": The x array is greater than or equal to y\")\n",
    "    else:\n",
    "        print(elements, \": The y array is greater than or equal to x\")\n",
    "\n",
    "        \n",
    "print(\"===================================================\")\n",
    "\n",
    "print(\"To make comparison - less, of the two arrays, x and y:\")\n",
    "xy3 = np.less(x, y) \n",
    "for elements in xy3:\n",
    "    if elements == True:\n",
    "        print(elements, \": The x array is less than y\")\n",
    "    else:\n",
    "        print(elements, \": The y array is less than x\")\n",
    "        \n",
    "print(\"===================================================\")\n",
    "\n",
    "print(\"To make comparison - less_than, of the two arrays, x and y:\")       \n",
    "xy4 = np.less_equal(x, y) \n",
    "for elements in xy4:\n",
    "    if elements == True:\n",
    "        print(elements, \": The x array is less than or equal to y\")\n",
    "    else:\n",
    "        print(elements, \": The y array is less than or equal to x\")       "
   ]
  },
  {
   "cell_type": "markdown",
   "id": "b20992fc",
   "metadata": {},
   "source": [
    "**9. Write a NumPy program to create an element-wise comparison (equal, equal within a tolerance) of two given arrays.**"
   ]
  },
  {
   "cell_type": "code",
   "execution_count": 156,
   "id": "efe53dfe",
   "metadata": {},
   "outputs": [
    {
     "name": "stdout",
     "output_type": "stream",
     "text": [
      "The original array of a is:\n",
      "[1 2 3 4 5 6]\n",
      "The original array of b is:\n",
      "[1 2 3 4 5 6]\n"
     ]
    }
   ],
   "source": [
    "a = np.array([1,2,3,4,5,6])\n",
    "b = np.array([1,2,3,4,5,6])\n",
    "\n",
    "print(\"The original array of a is:\")\n",
    "print(a)\n",
    "print(\"The original array of b is:\")\n",
    "print(b)"
   ]
  },
  {
   "cell_type": "code",
   "execution_count": 164,
   "id": "156b5c76",
   "metadata": {},
   "outputs": [
    {
     "name": "stdout",
     "output_type": "stream",
     "text": [
      "To compare if the items in a and b are equal:\n",
      "True : Index 0 is equal\n",
      "True : Index 1 is equal\n",
      "True : Index 2 is equal\n",
      "True : Index 3 is equal\n",
      "True : Index 4 is equal\n",
      "True : Index 5 is equal\n",
      "\n",
      "\n",
      "To test if the two arrays are equal within a tolerance:\n"
     ]
    },
    {
     "data": {
      "text/plain": [
       "True"
      ]
     },
     "execution_count": 164,
     "metadata": {},
     "output_type": "execute_result"
    }
   ],
   "source": [
    "print(\"To compare if the items in a and b are equal:\")\n",
    "ab = np.equal(a,b)\n",
    "for index,items in enumerate(ab):\n",
    "    if items == True:\n",
    "        print(elements, \": Index\", index, \"is equal\")\n",
    "    else:\n",
    "        print(elements, \": Index\", index, \"is not equal\")\n",
    "        \n",
    "print(\"\\n\")\n",
    "print(\"To test if the two arrays are equal within a tolerance:\")\n",
    "ab = np.allclose(a, b)\n",
    "ab"
   ]
  },
  {
   "cell_type": "markdown",
   "id": "a4b7c469",
   "metadata": {},
   "source": [
    "**10. Write a NumPy program to create an array with the values 1, 7, 13, 105 and determine the size of the memory occupied by the array.**"
   ]
  },
  {
   "cell_type": "code",
   "execution_count": 166,
   "id": "49859a73",
   "metadata": {},
   "outputs": [
    {
     "name": "stdout",
     "output_type": "stream",
     "text": [
      "The original array of c is:\n",
      "[  1   7  13 105]\n",
      "\n",
      "\n",
      "To determine the size of the memory occupied by the above array:\n",
      "16 bytes\n"
     ]
    }
   ],
   "source": [
    "c = np.array([1, 7, 13, 105])\n",
    "print(\"The original array of c is:\")\n",
    "print(c)\n",
    "\n",
    "print(\"\\n\")\n",
    "print(\"To determine the size of the memory occupied by the above array:\")\n",
    "print(\"%d bytes\" % (X.size * X.itemsize))"
   ]
  }
 ],
 "metadata": {
  "kernelspec": {
   "display_name": "Python 3",
   "language": "python",
   "name": "python3"
  },
  "language_info": {
   "codemirror_mode": {
    "name": "ipython",
    "version": 3
   },
   "file_extension": ".py",
   "mimetype": "text/x-python",
   "name": "python",
   "nbconvert_exporter": "python",
   "pygments_lexer": "ipython3",
   "version": "3.8.8"
  }
 },
 "nbformat": 4,
 "nbformat_minor": 5
}
