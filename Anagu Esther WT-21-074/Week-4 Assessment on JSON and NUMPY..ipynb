{
 "cells": [
  {
   "cell_type": "markdown",
   "id": "fd4d7ec3",
   "metadata": {},
   "source": [
    "# Tasks"
   ]
  },
  {
   "cell_type": "markdown",
   "id": "b94aab5e",
   "metadata": {},
   "source": [
    "1. Write a NumPy program to test whether none of the elements of a given array is zero"
   ]
  },
  {
   "cell_type": "code",
   "execution_count": 1,
   "id": "a566ed2a",
   "metadata": {},
   "outputs": [],
   "source": [
    "import numpy as np"
   ]
  },
  {
   "cell_type": "code",
   "execution_count": 4,
   "id": "edf26354",
   "metadata": {},
   "outputs": [
    {
     "name": "stdout",
     "output_type": "stream",
     "text": [
      "The original array is:\n"
     ]
    },
    {
     "data": {
      "text/plain": [
       "array([3, 4, 7, 3, 0, 8])"
      ]
     },
     "execution_count": 4,
     "metadata": {},
     "output_type": "execute_result"
    }
   ],
   "source": [
    "a = np.array([3,4,7,3,0,8])\n",
    "print(\"The original array is:\")\n",
    "a"
   ]
  },
  {
   "cell_type": "markdown",
   "id": "1db33209",
   "metadata": {},
   "source": [
    "To test whether none of the elements of a given array is zero:"
   ]
  },
  {
   "cell_type": "code",
   "execution_count": 5,
   "id": "81a2054d",
   "metadata": {},
   "outputs": [
    {
     "name": "stdout",
     "output_type": "stream",
     "text": [
      "3 is not a zero value.\n",
      "4 is not a zero value.\n",
      "7 is not a zero value.\n",
      "3 is not a zero value.\n",
      "0 is a zero value.\n",
      "8 is not a zero value.\n"
     ]
    }
   ],
   "source": [
    "for elements in a:\n",
    "    if elements == 0:\n",
    "        print(elements,\"is a zero value.\")\n",
    "    else:\n",
    "        print(elements, \"is not a zero value.\")"
   ]
  },
  {
   "cell_type": "markdown",
   "id": "446476f2",
   "metadata": {},
   "source": [
    "2. Write a NumPy program to test whether any of the elements of a given array is non-zero."
   ]
  },
  {
   "cell_type": "code",
   "execution_count": 6,
   "id": "031120fc",
   "metadata": {},
   "outputs": [
    {
     "name": "stdout",
     "output_type": "stream",
     "text": [
      "The original array of b is:\n"
     ]
    },
    {
     "data": {
      "text/plain": [
       "array([  5,  10,   0,   0,   3, 500])"
      ]
     },
     "execution_count": 6,
     "metadata": {},
     "output_type": "execute_result"
    }
   ],
   "source": [
    "b = np.array([5,10,0,0,3,500])\n",
    "print(\"The original array of b is:\")\n",
    "b"
   ]
  },
  {
   "cell_type": "markdown",
   "id": "bdb4262b",
   "metadata": {},
   "source": [
    "To test whether any of the elements of a given array is non-zero:"
   ]
  },
  {
   "cell_type": "code",
   "execution_count": 9,
   "id": "2f11b3b5",
   "metadata": {},
   "outputs": [
    {
     "name": "stdout",
     "output_type": "stream",
     "text": [
      "5 is non-zero\n",
      "10 is non-zero\n",
      "0 is a zero value\n",
      "0 is a zero value\n",
      "3 is non-zero\n",
      "500 is non-zero\n"
     ]
    }
   ],
   "source": [
    "for items in b:\n",
    "    if items != 0:\n",
    "        print( items, \"is non-zero\")\n",
    "    else:\n",
    "        print(items, \"is a zero value\")"
   ]
  },
  {
   "cell_type": "markdown",
   "id": "d4ab2303",
   "metadata": {},
   "source": [
    "3. Write a NumPy program to test a given array element-wise for finiteness (not infinity or not a Number)."
   ]
  },
  {
   "cell_type": "code",
   "execution_count": 13,
   "id": "2d0ff599",
   "metadata": {},
   "outputs": [
    {
     "name": "stdout",
     "output_type": "stream",
     "text": [
      "Index: 0 is finite: True\n",
      "Index: 1 is finite: True\n",
      "Index: 2 is not a number and is infinite: False\n",
      "Index: 3 is not a number and is infinite: False\n",
      "Index: 4 is finite: True\n"
     ]
    }
   ],
   "source": [
    "c = np.array([5,6,np.nan,np.inf,8])\n",
    "c = np.isfinite(c)\n",
    "for index, elements in enumerate(c):\n",
    "    if elements == True:\n",
    "        print('Index:', index, \"is finite:\",elements)\n",
    "    else:\n",
    "        print('Index:', index, \"is not a number and is infinite:\", elements)"
   ]
  },
  {
   "cell_type": "markdown",
   "id": "d96a443b",
   "metadata": {},
   "source": [
    "4. Write a NumPy program to test element-wise for positive or negative infinity."
   ]
  },
  {
   "cell_type": "code",
   "execution_count": 19,
   "id": "6593d573",
   "metadata": {},
   "outputs": [
    {
     "name": "stdout",
     "output_type": "stream",
     "text": [
      "The original array of d is:\n"
     ]
    },
    {
     "data": {
      "text/plain": [
       "array([ 50.,  inf, -inf, 250.])"
      ]
     },
     "execution_count": 19,
     "metadata": {},
     "output_type": "execute_result"
    }
   ],
   "source": [
    "d = np.array([50, np.inf, -np.inf, 250])\n",
    "print(\"The original array of d is:\")\n",
    "d"
   ]
  },
  {
   "cell_type": "markdown",
   "id": "bc6f09a8",
   "metadata": {},
   "source": [
    "To test the array element-wise for positive or negative infinity:"
   ]
  },
  {
   "cell_type": "code",
   "execution_count": 18,
   "id": "0eb5f0bc",
   "metadata": {},
   "outputs": [
    {
     "name": "stdout",
     "output_type": "stream",
     "text": [
      "When the element in the array is a negative infinity, the Boolean value is: \n",
      "[False False  True False]\n",
      "===================================\n",
      "When the element in the array is a positive infinity, the Boolean value is: \n",
      "[False  True False False]\n"
     ]
    }
   ],
   "source": [
    "print(\"When the element in the array is a negative infinity, the Boolean value is: \")\n",
    "print(np.isneginf(d))\n",
    "print(\"===================================\")\n",
    "print(\"When the element in the array is a positive infinity, the Boolean value is: \")\n",
    "print(np.isposinf(d))"
   ]
  },
  {
   "cell_type": "markdown",
   "id": "cc3db722",
   "metadata": {},
   "source": [
    "5. Write a NumPy program to test element-wise for NaN of a given array."
   ]
  },
  {
   "cell_type": "code",
   "execution_count": null,
   "id": "b9b9073f",
   "metadata": {},
   "outputs": [],
   "source": []
  },
  {
   "cell_type": "markdown",
   "id": "9fee626d",
   "metadata": {},
   "source": [
    "6. Write a NumPy program to test element-wise for complex number, real number of a given array. Also test whether a given number is a scalar type or not."
   ]
  },
  {
   "cell_type": "markdown",
   "id": "9766b447",
   "metadata": {},
   "source": [
    "7. Write a NumPy program to test whether two arrays are element-wise equal within a tolerance."
   ]
  },
  {
   "cell_type": "markdown",
   "id": "c449d78a",
   "metadata": {},
   "source": [
    "8. Write a NumPy program to create an element-wise comparison (greater, greater_equal, less and less_equal) of two given arrays."
   ]
  },
  {
   "cell_type": "markdown",
   "id": "b20992fc",
   "metadata": {},
   "source": [
    "9. Write a NumPy program to create an element-wise comparison (equal, equal within a tolerance) of two given arrays."
   ]
  },
  {
   "cell_type": "markdown",
   "id": "a4b7c469",
   "metadata": {},
   "source": [
    "10. Write a NumPy program to create an array with the values 1, 7, 13, 105 and determine the size of the memory occupied by the array."
   ]
  },
  {
   "cell_type": "code",
   "execution_count": null,
   "id": "49859a73",
   "metadata": {},
   "outputs": [],
   "source": []
  }
 ],
 "metadata": {
  "kernelspec": {
   "display_name": "Python 3",
   "language": "python",
   "name": "python3"
  },
  "language_info": {
   "codemirror_mode": {
    "name": "ipython",
    "version": 3
   },
   "file_extension": ".py",
   "mimetype": "text/x-python",
   "name": "python",
   "nbconvert_exporter": "python",
   "pygments_lexer": "ipython3",
   "version": "3.8.8"
  }
 },
 "nbformat": 4,
 "nbformat_minor": 5
}
