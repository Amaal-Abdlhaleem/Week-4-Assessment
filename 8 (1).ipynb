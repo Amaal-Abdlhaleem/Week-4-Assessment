{
 "cells": [
  {
   "cell_type": "code",
   "execution_count": 1,
   "id": "2133a322",
   "metadata": {},
   "outputs": [],
   "source": [
    "# this code conceals irrelevant warning messages\n",
    "import warnings\n",
    "warnings.simplefilter('ignore', FutureWarning)"
   ]
  },
  {
   "cell_type": "markdown",
   "id": "15c2ca55",
   "metadata": {},
   "source": [
    "## Exercise 1: Numpy\n",
    "\n",
    "\n",
    "### Numpy\n",
    "\n",
    "NumPy, which stands for Numerical Python, is a library consisting of multidimensional array objects and a collection of routines for processing those arrays. Using NumPy, mathematical and logical operations on arrays can be performed."
   ]
  },
  {
   "cell_type": "markdown",
   "id": "2ab9ed52",
   "metadata": {},
   "source": [
    "#### Operations using NumPy (IMPORTANCE)\n",
    "Using NumPy, a developer can perform the following operations:\n",
    "\n",
    "\n",
    "1. Mathematical and logical operations on arrays.\n",
    "2. Fourier transforms (In mathematics, a Fourier series (/ˈfʊrieɪ, -iər/) is a periodic function composed of harmonically related sinusoids, combined by a weighted summation. ... The process of deriving the weights that describe a given function is a form of Fourier analysis.) and routines for shape manipulation.\n",
    "3. Operations related to linear algebra. NumPy has in-built functions for linear algebra and random number generation."
   ]
  },
  {
   "cell_type": "markdown",
   "id": "c3655105",
   "metadata": {},
   "source": [
    "The most important object defined in NumPy is an N-dimensional array type called ndarray. It describes the collection of items of the same type. Items in the collection can be accessed using a zero-based index."
   ]
  },
  {
   "cell_type": "markdown",
   "id": "faf002a1",
   "metadata": {},
   "source": [
    "An instance of ndarray class can be constructed by different array creation routines described later in the tutorial. \n",
    "The basic ndarray is created using an array function in NumPy as follows"
   ]
  },
  {
   "cell_type": "code",
   "execution_count": 8,
   "id": "af084c53",
   "metadata": {},
   "outputs": [],
   "source": [
    "import numpy "
   ]
  },
  {
   "cell_type": "code",
   "execution_count": 9,
   "id": "f8f37b9d",
   "metadata": {},
   "outputs": [
    {
     "data": {
      "text/plain": [
       "<function numpy.array>"
      ]
     },
     "execution_count": 9,
     "metadata": {},
     "output_type": "execute_result"
    }
   ],
   "source": [
    "numpy.array"
   ]
  },
  {
   "cell_type": "markdown",
   "id": "25597131",
   "metadata": {},
   "source": [
    "It creates an ndarray from any object exposing array interface, or from any method that returns an array."
   ]
  },
  {
   "cell_type": "code",
   "execution_count": 10,
   "id": "79e8a736",
   "metadata": {},
   "outputs": [
    {
     "data": {
      "text/plain": [
       "array(<class 'object'>, dtype=object)"
      ]
     },
     "execution_count": 10,
     "metadata": {},
     "output_type": "execute_result"
    }
   ],
   "source": [
    "numpy.array(object, dtype = None, copy = True, order = None, subok = False, ndmin = 0)"
   ]
  },
  {
   "cell_type": "markdown",
   "id": "a32a0357",
   "metadata": {},
   "source": [
    "# The above constructor takes the following parameters\n",
    "\n",
    "#### Sr.No.\tParameter & Description:\n",
    "\n",
    "1. object\n",
    "\n",
    "Any object exposing the array interface method returns an array, or any (nested) sequence.\n",
    "\n",
    "2. dtype\n",
    "\n",
    "Desired data type of array, optional\n",
    "\n",
    "3. copy\n",
    "\n",
    "Optional. By default (true), the object is copied\n",
    "\n",
    "4. order\n",
    "\n",
    "C (row major) or F (column major) or A (any) (default)\n",
    "\n",
    "5. subok\n",
    "\n",
    "By default, returned array forced to be a base class array. If true, sub-classes passed through\n",
    "\n",
    "6. ndmin\n",
    "\n",
    "Specifies minimum dimensions of resultant array\n",
    "\n",
    "\n",
    "\n",
    "\n",
    "\n",
    "\n"
   ]
  },
  {
   "cell_type": "markdown",
   "id": "2be844d3",
   "metadata": {},
   "source": [
    "Note: All arithmetic operations can be perform on a numpy array"
   ]
  },
  {
   "cell_type": "code",
   "execution_count": 11,
   "id": "cd729f55",
   "metadata": {},
   "outputs": [],
   "source": [
    "import numpy as np"
   ]
  },
  {
   "cell_type": "markdown",
   "id": "bead302a",
   "metadata": {},
   "source": [
    "`Examples`"
   ]
  },
  {
   "cell_type": "markdown",
   "id": "84a66bb9",
   "metadata": {},
   "source": [
    "__Operations on Numpy Array__"
   ]
  },
  {
   "cell_type": "code",
   "execution_count": 12,
   "id": "cf966a33",
   "metadata": {},
   "outputs": [
    {
     "name": "stdout",
     "output_type": "stream",
     "text": [
      "[[1 2 3]\n",
      " [4 1 5]]\n"
     ]
    }
   ],
   "source": [
    "# Base Ball Player's Heights AS a in 2D \n",
    "a = np.array([[1,2,3], [4,1,5]]) \n",
    "print (a)"
   ]
  },
  {
   "cell_type": "code",
   "execution_count": 13,
   "id": "bdd29e74",
   "metadata": {},
   "outputs": [
    {
     "data": {
      "text/plain": [
       "array([[4, 5, 6],\n",
       "       [7, 4, 8]])"
      ]
     },
     "execution_count": 13,
     "metadata": {},
     "output_type": "execute_result"
    }
   ],
   "source": [
    "# Addition\n",
    "a+3"
   ]
  },
  {
   "cell_type": "code",
   "execution_count": 14,
   "id": "0c476fd3",
   "metadata": {},
   "outputs": [
    {
     "data": {
      "text/plain": [
       "array([[ 2,  4,  6],\n",
       "       [ 8,  2, 10]])"
      ]
     },
     "execution_count": 14,
     "metadata": {},
     "output_type": "execute_result"
    }
   ],
   "source": [
    "# Multiplication\n",
    "a*2"
   ]
  },
  {
   "cell_type": "code",
   "execution_count": 15,
   "id": "62a8c64f",
   "metadata": {},
   "outputs": [
    {
     "data": {
      "text/plain": [
       "array([[-1,  0,  1],\n",
       "       [ 2, -1,  3]])"
      ]
     },
     "execution_count": 15,
     "metadata": {},
     "output_type": "execute_result"
    }
   ],
   "source": [
    "# Subtraction\n",
    "a-2"
   ]
  },
  {
   "cell_type": "code",
   "execution_count": 16,
   "id": "6056b13e",
   "metadata": {},
   "outputs": [
    {
     "data": {
      "text/plain": [
       "array([[0.33333333, 0.66666667, 1.        ],\n",
       "       [1.33333333, 0.33333333, 1.66666667]])"
      ]
     },
     "execution_count": 16,
     "metadata": {},
     "output_type": "execute_result"
    }
   ],
   "source": [
    "# Division\n",
    "a/3"
   ]
  },
  {
   "cell_type": "markdown",
   "id": "d3c72110",
   "metadata": {},
   "source": [
    "__Task__\n",
    "\n",
    "1. Write a NumPy program to test whether none of the elements of a given array is zero."
   ]
  },
  {
   "cell_type": "code",
   "execution_count": 17,
   "id": "70470fbe",
   "metadata": {},
   "outputs": [
    {
     "data": {
      "text/plain": [
       "array([2, 3, 1, 0, 6, 7])"
      ]
     },
     "execution_count": 17,
     "metadata": {},
     "output_type": "execute_result"
    }
   ],
   "source": [
    "a = np.array([2,3,1,0,6,7])\n",
    "a"
   ]
  },
  {
   "cell_type": "code",
   "execution_count": 18,
   "id": "48d5b169",
   "metadata": {},
   "outputs": [
    {
     "name": "stdout",
     "output_type": "stream",
     "text": [
      "2  is not zero\n",
      "3  is not zero\n",
      "1  is not zero\n",
      "Zero value found at Index 3\n",
      "6  is not zero\n",
      "7  is not zero\n"
     ]
    }
   ],
   "source": [
    "for index,item in enumerate(a):\n",
    "    if item==0:\n",
    "        print('Zero value found at Index',index)\n",
    "    else:\n",
    "        print(item,\" is not zero\")"
   ]
  },
  {
   "cell_type": "markdown",
   "id": "768d58a1",
   "metadata": {},
   "source": [
    "2.  Write a NumPy program to test whether any of the elements of a given array is non-zero."
   ]
  },
  {
   "cell_type": "code",
   "execution_count": 20,
   "id": "e5a39d40",
   "metadata": {},
   "outputs": [
    {
     "data": {
      "text/plain": [
       "array([2, 1, 3, 6, 7])"
      ]
     },
     "execution_count": 20,
     "metadata": {},
     "output_type": "execute_result"
    }
   ],
   "source": [
    "b = np.array([2,1,3,6,7])\n",
    "b"
   ]
  },
  {
   "cell_type": "code",
   "execution_count": 22,
   "id": "81d3f35f",
   "metadata": {},
   "outputs": [
    {
     "name": "stdout",
     "output_type": "stream",
     "text": [
      "2  is not zero\n",
      "1  is not zero\n",
      "3  is not zero\n",
      "6  is not zero\n",
      "7  is not zero\n"
     ]
    }
   ],
   "source": [
    "for index,item in enumerate(b):\n",
    "    if item==0:\n",
    "        print('None zero value found at Index',index)\n",
    "    else:\n",
    "        print(item,\" is not zero\")"
   ]
  },
  {
   "cell_type": "code",
   "execution_count": null,
   "id": "c8be24f5",
   "metadata": {},
   "outputs": [],
   "source": []
  }
 ],
 "metadata": {
  "kernelspec": {
   "display_name": "Python 3",
   "language": "python",
   "name": "python3"
  },
  "language_info": {
   "codemirror_mode": {
    "name": "ipython",
    "version": 3
   },
   "file_extension": ".py",
   "mimetype": "text/x-python",
   "name": "python",
   "nbconvert_exporter": "python",
   "pygments_lexer": "ipython3",
   "version": "3.8.8"
  }
 },
 "nbformat": 4,
 "nbformat_minor": 5
}
