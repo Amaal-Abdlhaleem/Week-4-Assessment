{
 "cells": [
  {
   "cell_type": "markdown",
   "id": "7fba9125",
   "metadata": {},
   "source": [
    "# WEEK 4 ASSESSMENT ON JSON AND PYTHON NUMPY\n"
   ]
  },
  {
   "cell_type": "markdown",
   "id": "4aefc0c7",
   "metadata": {},
   "source": [
    " **TASK 1**\n",
    " \n",
    " 1.Write a NumPy program to test whether none of the elements of a given array is zero."
   ]
  },
  {
   "cell_type": "code",
   "execution_count": 1,
   "id": "bd0d9f6a",
   "metadata": {},
   "outputs": [
    {
     "name": "stdout",
     "output_type": "stream",
     "text": [
      "2 is not zero\n",
      "4 is not zero\n",
      "6 is not zero\n",
      "8 is not zero\n"
     ]
    }
   ],
   "source": [
    "import numpy as np\n",
    "x = np.array([2,4,6,8])\n",
    "for item in x:\n",
    "    if item ==0:\n",
    "        print('Zero value found')\n",
    "    else:\n",
    "        print(item,'is not zero')"
   ]
  },
  {
   "cell_type": "markdown",
   "id": "32ddc65f",
   "metadata": {},
   "source": [
    "2.Write a NumPy program to test whether any of the elements of a given array is non-zero."
   ]
  },
  {
   "cell_type": "code",
   "execution_count": 2,
   "id": "8bb22b1c",
   "metadata": {},
   "outputs": [
    {
     "name": "stdout",
     "output_type": "stream",
     "text": [
      "Are any of the elements in the array non-zero? True\n"
     ]
    }
   ],
   "source": [
    "x = np.array([1,0,1,0,1])\n",
    "print(\"Are any of the elements in the array non-zero?\",(np.any(x)))\n"
   ]
  },
  {
   "cell_type": "markdown",
   "id": "0e4b8371",
   "metadata": {},
   "source": [
    "**TASK 2**\n",
    "\n",
    "1.Write a NumPy program to test a given array element-wise for finiteness (not infinity or not a Number)."
   ]
  },
  {
   "cell_type": "code",
   "execution_count": 3,
   "id": "5f62beda",
   "metadata": {},
   "outputs": [
    {
     "name": "stdout",
     "output_type": "stream",
     "text": [
      "Are any of the element-wise for finiteness? [ True  True False False]\n"
     ]
    }
   ],
   "source": [
    "x= np.array([2,3,np.inf,np.nan])\n",
    "print(\"Are any of the element-wise for finiteness?\",(np.isfinite(x)))"
   ]
  },
  {
   "cell_type": "markdown",
   "id": "5e858bdf",
   "metadata": {},
   "source": [
    "2.Write a NumPy program to test element-wise for positive or negative infinity"
   ]
  },
  {
   "cell_type": "code",
   "execution_count": 4,
   "id": "c47fad52",
   "metadata": {},
   "outputs": [
    {
     "name": "stdout",
     "output_type": "stream",
     "text": [
      "[False False False  True False False]\n"
     ]
    }
   ],
   "source": [
    "x = np.array([2,3,4,np.inf,5,np.nan])\n",
    "print(np.isinf(x))"
   ]
  },
  {
   "cell_type": "markdown",
   "id": "20c586c5",
   "metadata": {},
   "source": [
    "**TASK 3**\n",
    "\n",
    "1.Write a NumPy program to test element-wise for NaN of a given array."
   ]
  },
  {
   "cell_type": "code",
   "execution_count": 5,
   "id": "682f1b50",
   "metadata": {},
   "outputs": [
    {
     "name": "stdout",
     "output_type": "stream",
     "text": [
      "[False  True False False False]\n"
     ]
    }
   ],
   "source": [
    "x= np.array([2,np.nan,3,4,np.inf])\n",
    "print(np.isnan(x))"
   ]
  },
  {
   "cell_type": "markdown",
   "id": "c1ca5954",
   "metadata": {},
   "source": [
    "2.Write a NumPy program to test element-wise for complex number, real number of a given array. Also test whether a given number is a scalar type or not."
   ]
  },
  {
   "cell_type": "code",
   "execution_count": 6,
   "id": "d7acdd35",
   "metadata": {},
   "outputs": [
    {
     "name": "stdout",
     "output_type": "stream",
     "text": [
      "Which of the following elements are complex numbers? [ True False False False False  True]\n",
      "Which of the following elements are real numbers? [False  True  True  True  True False]\n",
      "Is this a  scalar type?  True\n",
      "Is this a scalar type? False\n"
     ]
    }
   ],
   "source": [
    "x = np.array([2+1j,2+0j,3.1,4,5,6j])\n",
    "print(\"Which of the following elements are complex numbers?\",np.iscomplex(x))\n",
    "print(\"Which of the following elements are real numbers?\",np.isreal(x))\n",
    "print(\"Is this a  scalar type? \",np.isscalar(2))\n",
    "print(\"Is this a scalar type?\",np.isscalar([2]) )"
   ]
  },
  {
   "cell_type": "markdown",
   "id": "8a9079f8",
   "metadata": {},
   "source": [
    "**TASK 4**\n",
    "\n",
    "1.Write a NumPy program to test whether two arrays are element-wise equal within a tolerance"
   ]
  },
  {
   "cell_type": "code",
   "execution_count": 14,
   "id": "bf99b052",
   "metadata": {},
   "outputs": [
    {
     "name": "stdout",
     "output_type": "stream",
     "text": [
      "False\n",
      "True\n"
     ]
    }
   ],
   "source": [
    "x = np.array([1e10,1e-7])\n",
    "y = np.array([[1.00001e10,1e-8]])\n",
    "print(np.allclose(x,y))\n",
    "a = np.array([1e10,1e-8])\n",
    "b = np.array([1.00001e10,1e-9])\n",
    "print(np.allclose(a,b))\n"
   ]
  },
  {
   "cell_type": "markdown",
   "id": "caadad8e",
   "metadata": {},
   "source": [
    "2.Write a NumPy program to create an element-wise comparison (greater, greater_equal, less and less_equal) of two given arrays"
   ]
  },
  {
   "cell_type": "code",
   "execution_count": 8,
   "id": "2367e5ca",
   "metadata": {},
   "outputs": [
    {
     "name": "stdout",
     "output_type": "stream",
     "text": [
      "Greater [ True False]\n",
      "Greater_Equal [ True  True]\n",
      "Less [False False]\n",
      "Less_Equal [False  True]\n"
     ]
    }
   ],
   "source": [
    "x = np.array ([4,6])\n",
    "y = np.array ([2,6])\n",
    "print(\"Greater\",np.greater(x,y))\n",
    "print(\"Greater_Equal\",np.greater_equal(x,y))\n",
    "print(\"Less\",np.less(x,y))\n",
    "print(\"Less_Equal\",np.less_equal(x,y))\n"
   ]
  },
  {
   "cell_type": "markdown",
   "id": "b52e57ff",
   "metadata": {},
   "source": [
    "**TASK 5**\n",
    "\n",
    "1.Write a NumPy program to create an element-wise comparison (equal, equal within a tolerance) of two given arrays."
   ]
  },
  {
   "cell_type": "code",
   "execution_count": 9,
   "id": "bf6be24c",
   "metadata": {},
   "outputs": [
    {
     "name": "stdout",
     "output_type": "stream",
     "text": [
      "Equal [ True  True  True  True  True  True False]\n",
      "Equal with a tolerance False\n"
     ]
    }
   ],
   "source": [
    "x = np.array ([2,4,6,8,10,12,16])\n",
    "y = np.array ([2,4,6,8,10,12,18])\n",
    "print(\"Equal\",np.equal(x,y))\n",
    "print(\"Equal with a tolerance\",np.allclose(x,y))\n"
   ]
  },
  {
   "cell_type": "markdown",
   "id": "21b9af60",
   "metadata": {},
   "source": [
    "2.Write a NumPy program to create an array with the values 1, 7, 13, 105 and determine the size of the memory occupied by the array"
   ]
  },
  {
   "cell_type": "code",
   "execution_count": 10,
   "id": "2e091217",
   "metadata": {},
   "outputs": [
    {
     "name": "stdout",
     "output_type": "stream",
     "text": [
      "Size of memory occupied by the array is  16 bytes\n"
     ]
    }
   ],
   "source": [
    "x = np.array([1, 7, 13, 105])\n",
    "print(\"Size of memory occupied by the array is \",\"%d bytes\" %(x.size * x.itemsize))"
   ]
  }
 ],
 "metadata": {
  "kernelspec": {
   "display_name": "Python 3",
   "language": "python",
   "name": "python3"
  },
  "language_info": {
   "codemirror_mode": {
    "name": "ipython",
    "version": 3
   },
   "file_extension": ".py",
   "mimetype": "text/x-python",
   "name": "python",
   "nbconvert_exporter": "python",
   "pygments_lexer": "ipython3",
   "version": "3.8.8"
  }
 },
 "nbformat": 4,
 "nbformat_minor": 5
}
