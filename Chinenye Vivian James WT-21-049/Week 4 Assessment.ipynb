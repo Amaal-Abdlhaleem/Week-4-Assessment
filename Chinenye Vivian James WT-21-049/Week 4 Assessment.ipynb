{
 "cells": [
  {
   "cell_type": "markdown",
   "metadata": {},
   "source": [
    "# Week 4 Assessment"
   ]
  },
  {
   "cell_type": "markdown",
   "metadata": {},
   "source": [
    "## 1.\n",
    "## Create an element-wise comparison (greater, greater_equal, less and less_equal) of two given arrays"
   ]
  },
  {
   "cell_type": "code",
   "execution_count": 1,
   "metadata": {},
   "outputs": [
    {
     "name": "stdout",
     "output_type": "stream",
     "text": [
      "The arrays are given as \n",
      " [0 2 2 3 5 7 7] \n",
      " [4 4 6 6 9 9 1]\n"
     ]
    }
   ],
   "source": [
    "import warnings\n",
    "warnings.simplefilter('ignore', FutureWarning)\n",
    "import numpy as np\n",
    "a = np.array([0, 2, 2, 3, 5, 7, 7])\n",
    "b = np.array([4, 4, 6, 6, 9, 9, 1])\n",
    "\n",
    "print(\"The arrays are given as\", \"\\n\", a, \"\\n\", b)\n"
   ]
  },
  {
   "cell_type": "markdown",
   "metadata": {},
   "source": [
    "### Element-wise comparison (greater)"
   ]
  },
  {
   "cell_type": "code",
   "execution_count": 2,
   "metadata": {},
   "outputs": [
    {
     "name": "stdout",
     "output_type": "stream",
     "text": [
      "[False False False False False False  True]\n"
     ]
    }
   ],
   "source": [
    "greater_comp = np.greater(a, b)\n",
    "print(greater_comp)"
   ]
  },
  {
   "cell_type": "markdown",
   "metadata": {},
   "source": [
    "### Element-Wise comparison (greater_equal)"
   ]
  },
  {
   "cell_type": "code",
   "execution_count": 3,
   "metadata": {},
   "outputs": [
    {
     "name": "stdout",
     "output_type": "stream",
     "text": [
      "[False False False False False False  True]\n"
     ]
    }
   ],
   "source": [
    "# returns a boolean\n",
    "greater_equal = np.greater_equal(a, b)\n",
    "print(greater_equal)"
   ]
  },
  {
   "cell_type": "markdown",
   "metadata": {},
   "source": [
    "### Element-Wise comparison (less)"
   ]
  },
  {
   "cell_type": "code",
   "execution_count": 4,
   "metadata": {},
   "outputs": [
    {
     "name": "stdout",
     "output_type": "stream",
     "text": [
      "[ True  True  True  True  True  True False]\n"
     ]
    }
   ],
   "source": [
    "less_comp = np.less(a, b)\n",
    "print(less_comp)"
   ]
  },
  {
   "cell_type": "markdown",
   "metadata": {},
   "source": [
    "### Element-Wise comaprison (less_equal)"
   ]
  },
  {
   "cell_type": "code",
   "execution_count": 5,
   "metadata": {},
   "outputs": [
    {
     "name": "stdout",
     "output_type": "stream",
     "text": [
      "[ True  True  True  True  True  True False]\n"
     ]
    }
   ],
   "source": [
    "less_equal = np.less_equal(a, b)\n",
    "print(less_equal)"
   ]
  },
  {
   "cell_type": "markdown",
   "metadata": {},
   "source": [
    "## 2"
   ]
  },
  {
   "cell_type": "markdown",
   "metadata": {},
   "source": [
    "## Create an element-wise comparison (equal, equal within a tolerance) of two given arrays"
   ]
  },
  {
   "cell_type": "code",
   "execution_count": 6,
   "metadata": {},
   "outputs": [
    {
     "name": "stdout",
     "output_type": "stream",
     "text": [
      "The arrays are given as \n",
      " [ 888  105   89 -123 -189  234  450    0   99   75] \n",
      " [ 1.11000e+02 -1.05000e+02  8.89900e+01 -1.23200e+02  1.88800e+02\n",
      "  2.34000e+02  4.50999e+02  1.00000e-03  9.90000e+01  7.50000e+01]\n"
     ]
    }
   ],
   "source": [
    "c = np.array([888, 105, 89, -123, -189, 234, 450, 0, 99, 75])\n",
    "d = np.array([111, -105, 88.99, -123.2, 188.8, 234, 450.999, 0.001, 99, 75.0000])\n",
    "\n",
    "print(\"The arrays are given as\", \"\\n\", c, \"\\n\", d)\n"
   ]
  },
  {
   "cell_type": "markdown",
   "metadata": {},
   "source": [
    "### Element-Wise comparison (equal)"
   ]
  },
  {
   "cell_type": "code",
   "execution_count": 7,
   "metadata": {},
   "outputs": [
    {
     "name": "stdout",
     "output_type": "stream",
     "text": [
      "[False False False False False  True False False  True  True]\n"
     ]
    }
   ],
   "source": [
    "equal_tol = np.equal(c, d)\n",
    "print(equal_tol)"
   ]
  },
  {
   "cell_type": "markdown",
   "metadata": {},
   "source": [
    "### Element-Wise comparison (equal within tolerance)"
   ]
  },
  {
   "cell_type": "code",
   "execution_count": 8,
   "metadata": {},
   "outputs": [
    {
     "name": "stdout",
     "output_type": "stream",
     "text": [
      "False\n"
     ]
    }
   ],
   "source": [
    "equal_within = np.allclose(c, d)\n",
    "print(equal_within)"
   ]
  },
  {
   "cell_type": "markdown",
   "metadata": {},
   "source": [
    "## 3."
   ]
  },
  {
   "cell_type": "markdown",
   "metadata": {},
   "source": [
    "## Write a NumPy program to test element-wise for NaN of a given array"
   ]
  },
  {
   "cell_type": "code",
   "execution_count": 9,
   "metadata": {},
   "outputs": [
    {
     "name": "stdout",
     "output_type": "stream",
     "text": [
      "The arrays are given as \n",
      " [10.  0.  0. inf  5. nan nan]\n"
     ]
    },
    {
     "name": "stderr",
     "output_type": "stream",
     "text": [
      "C:\\Users\\User\\Anaconda3\\lib\\site-packages\\ipykernel_launcher.py:1: RuntimeWarning: invalid value encountered in sqrt\n",
      "  \"\"\"Entry point for launching an IPython kernel.\n"
     ]
    }
   ],
   "source": [
    "e = np.array([10, 0, 0, np.inf, 5, np.nan, np.sqrt(-64)])\n",
    "print(\"The arrays are given as\", \"\\n\", e)\n"
   ]
  },
  {
   "cell_type": "markdown",
   "metadata": {},
   "source": [
    "### Testing element-wise for NaN"
   ]
  },
  {
   "cell_type": "code",
   "execution_count": 10,
   "metadata": {},
   "outputs": [
    {
     "name": "stdout",
     "output_type": "stream",
     "text": [
      "[False False False False False  True  True]\n"
     ]
    }
   ],
   "source": [
    "test_nan = np.isnan(e)\n",
    "print(test_nan)"
   ]
  },
  {
   "cell_type": "markdown",
   "metadata": {},
   "source": [
    "## 4"
   ]
  },
  {
   "cell_type": "markdown",
   "metadata": {},
   "source": [
    "## Write a NumPy program to test element-wise for complex number, real number of a given array. Also test whether a given number is a scalar type or not."
   ]
  },
  {
   "cell_type": "code",
   "execution_count": 11,
   "metadata": {},
   "outputs": [
    {
     "name": "stdout",
     "output_type": "stream",
     "text": [
      "The arrays are given as \n",
      " [ 5. +0.j 10.8+0.j  0. +3.j -5. -1.j  3. +5.j 20. +0.j] \n",
      " [0.        +5.j         2.        +0.j         0.        +1.j\n",
      " 0.        +8.j         1.60048518+1.24962107j]\n"
     ]
    }
   ],
   "source": [
    "f = np.array([5, 10.8, 0+3j, -5-1j, 3+5j, 20])\n",
    "ff = np.sqrt([-25, 4, -1, -64, 1+4J])\n",
    "\n",
    "print(\"The arrays are given as\", \"\\n\", f, \"\\n\", ff)"
   ]
  },
  {
   "cell_type": "markdown",
   "metadata": {},
   "source": [
    "### Testing element-wise for complex number"
   ]
  },
  {
   "cell_type": "code",
   "execution_count": 12,
   "metadata": {},
   "outputs": [
    {
     "name": "stdout",
     "output_type": "stream",
     "text": [
      "[False False  True  True  True False] \n",
      " [ True False  True  True  True]\n"
     ]
    }
   ],
   "source": [
    "g = np.iscomplex(f)\n",
    "gg = np.iscomplex(ff)\n",
    "print(g, \"\\n\", gg)"
   ]
  },
  {
   "cell_type": "markdown",
   "metadata": {},
   "source": [
    "### Testing element-wise for real number"
   ]
  },
  {
   "cell_type": "code",
   "execution_count": 13,
   "metadata": {},
   "outputs": [
    {
     "name": "stdout",
     "output_type": "stream",
     "text": [
      "[ True  True False False False  True]\n"
     ]
    }
   ],
   "source": [
    "h = np.isreal(f)\n",
    "print(h)"
   ]
  },
  {
   "cell_type": "markdown",
   "metadata": {},
   "source": [
    "### Testing for scalar within the given array"
   ]
  },
  {
   "cell_type": "code",
   "execution_count": 14,
   "metadata": {},
   "outputs": [
    {
     "name": "stdout",
     "output_type": "stream",
     "text": [
      "(3+5j)  is scalar?  True\n",
      "(20+0j)  is scalar?  True\n"
     ]
    }
   ],
   "source": [
    "print(f[4], \" is scalar? \", np.isscalar(f[4]))\n",
    "print(f[5], \" is scalar? \", np.isscalar(f[5]))"
   ]
  },
  {
   "cell_type": "markdown",
   "metadata": {},
   "source": [
    "## 5"
   ]
  },
  {
   "cell_type": "markdown",
   "metadata": {},
   "source": [
    "## Write a NumPy program to create an array with the values 1, 7, 13, 105 and determine the size of the memory occupied by the array."
   ]
  },
  {
   "cell_type": "code",
   "execution_count": 15,
   "metadata": {},
   "outputs": [
    {
     "name": "stdout",
     "output_type": "stream",
     "text": [
      "[  1   7  13 105]\n"
     ]
    }
   ],
   "source": [
    "j = np.array([1, 7, 13, 105])\n",
    "\n",
    "print(j)"
   ]
  },
  {
   "cell_type": "markdown",
   "metadata": {},
   "source": [
    "### Determining the size of the memory occupied by the array"
   ]
  },
  {
   "cell_type": "code",
   "execution_count": 16,
   "metadata": {},
   "outputs": [
    {
     "name": "stdout",
     "output_type": "stream",
     "text": [
      "The size of the memory occupied by array  [  1   7  13 105]  is  16 bytes\n"
     ]
    }
   ],
   "source": [
    "print(\"The size of the memory occupied by array \", j, \" is \", (j.size * j.itemsize), \"bytes\")"
   ]
  },
  {
   "cell_type": "markdown",
   "metadata": {},
   "source": [
    "## 6"
   ]
  },
  {
   "cell_type": "markdown",
   "metadata": {},
   "source": [
    "## Write a NumPy program to test whether two arrays are element-wise equal within a tolerance."
   ]
  },
  {
   "cell_type": "code",
   "execution_count": 17,
   "metadata": {},
   "outputs": [
    {
     "name": "stdout",
     "output_type": "stream",
     "text": [
      "The arrays are given as \n",
      " [1.e+12 1.e-08 1.e-05 1.e+10] \n",
      " [1.e+12 1.e-08 1.e-05 1.e+10] \n",
      " [1.0001e+12 1.0000e-07 1.0000e-06 1.0001e+11] \n",
      " [2.5     3.99995     nan     nan]\n",
      "\n",
      "\n",
      "True\n",
      "False\n",
      "False\n",
      "True\n"
     ]
    }
   ],
   "source": [
    "k = np.array([1e12, 1e-8, 1e-5, 1e10])\n",
    "l = np.array([1.00e12, 1e-8, 1e-5, 1.000e10])\n",
    "m = np.array([1.0001e12, 1e-7, 1e-6, 1.0001e11])\n",
    "n = np.array([2.5, 3.99995, np.nan, np.nan])\n",
    "\n",
    "print(\"The arrays are given as\", \"\\n\", k, \"\\n\", l, \"\\n\", m, \"\\n\", n)\n",
    "print(\"\\n\")\n",
    "print(np.allclose(k, l))\n",
    "print(np.allclose(k, m))\n",
    "print(np.allclose(n,n))\n",
    "print(np.allclose(n,n,equal_nan=True))\n"
   ]
  },
  {
   "cell_type": "code",
   "execution_count": null,
   "metadata": {},
   "outputs": [],
   "source": []
  }
 ],
 "metadata": {
  "kernelspec": {
   "display_name": "Python 3",
   "language": "python",
   "name": "python3"
  },
  "language_info": {
   "codemirror_mode": {
    "name": "ipython",
    "version": 3
   },
   "file_extension": ".py",
   "mimetype": "text/x-python",
   "name": "python",
   "nbconvert_exporter": "python",
   "pygments_lexer": "ipython3",
   "version": "3.7.4"
  }
 },
 "nbformat": 4,
 "nbformat_minor": 2
}
