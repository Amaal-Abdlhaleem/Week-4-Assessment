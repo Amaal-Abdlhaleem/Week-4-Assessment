{
 "cells": [
  {
   "cell_type": "code",
   "execution_count": 1,
   "id": "57094c7f",
   "metadata": {},
   "outputs": [],
   "source": [
    "import numpy as np\n",
    "import pandas as pd"
   ]
  },
  {
   "cell_type": "markdown",
   "id": "bfbfc4bb",
   "metadata": {},
   "source": [
    "Write a NumPy program to test whether none of the elements of a given array is zero."
   ]
  },
  {
   "cell_type": "code",
   "execution_count": 2,
   "id": "fe54bbc2",
   "metadata": {},
   "outputs": [
    {
     "data": {
      "text/plain": [
       "array([2, 3, 1, 0, 6, 7])"
      ]
     },
     "execution_count": 2,
     "metadata": {},
     "output_type": "execute_result"
    }
   ],
   "source": [
    "a = np.array([2,3,1,0,6,7])\n",
    "a"
   ]
  },
  {
   "cell_type": "code",
   "execution_count": 3,
   "id": "a34e0760",
   "metadata": {},
   "outputs": [
    {
     "name": "stdout",
     "output_type": "stream",
     "text": [
      "2  is not zero\n",
      "3  is not zero\n",
      "1  is not zero\n",
      "Zero value found at Index 3\n",
      "6  is not zero\n",
      "7  is not zero\n"
     ]
    }
   ],
   "source": [
    "for index,item in enumerate(a):\n",
    "    if item==0:\n",
    "        print('Zero value found at Index',index)\n",
    "    else:\n",
    "        print(item,\" is not zero\")"
   ]
  },
  {
   "cell_type": "markdown",
   "id": "b581f511",
   "metadata": {},
   "source": [
    "Write a NumPy program to test whether any of the elements of a given array is non-zero."
   ]
  },
  {
   "cell_type": "code",
   "execution_count": 4,
   "id": "1e2acb6e",
   "metadata": {},
   "outputs": [
    {
     "name": "stdout",
     "output_type": "stream",
     "text": [
      "2 is non-zero\n",
      "3 is non-zero\n",
      "1 is non-zero\n",
      "Zero value found at Index 3\n",
      "6 is non-zero\n",
      "7 is non-zero\n"
     ]
    }
   ],
   "source": [
    "for index,item in enumerate(a):\n",
    "    if item==0:\n",
    "        print('Zero value found at Index',index)\n",
    "    else:\n",
    "        print(item,'is non-zero')"
   ]
  },
  {
   "cell_type": "markdown",
   "id": "c529ce0c",
   "metadata": {},
   "source": [
    "Write a NumPy program to test a given array element-wise for finiteness (not infinity or not a Number)."
   ]
  },
  {
   "cell_type": "code",
   "execution_count": 5,
   "id": "ddc0912d",
   "metadata": {},
   "outputs": [
    {
     "data": {
      "text/html": [
       "<div>\n",
       "<style scoped>\n",
       "    .dataframe tbody tr th:only-of-type {\n",
       "        vertical-align: middle;\n",
       "    }\n",
       "\n",
       "    .dataframe tbody tr th {\n",
       "        vertical-align: top;\n",
       "    }\n",
       "\n",
       "    .dataframe thead th {\n",
       "        text-align: right;\n",
       "    }\n",
       "</style>\n",
       "<table border=\"1\" class=\"dataframe\">\n",
       "  <thead>\n",
       "    <tr style=\"text-align: right;\">\n",
       "      <th></th>\n",
       "      <th>0</th>\n",
       "      <th>1</th>\n",
       "      <th>2</th>\n",
       "    </tr>\n",
       "  </thead>\n",
       "  <tbody>\n",
       "    <tr>\n",
       "      <th>0</th>\n",
       "      <td>True</td>\n",
       "      <td>True</td>\n",
       "      <td>True</td>\n",
       "    </tr>\n",
       "    <tr>\n",
       "      <th>1</th>\n",
       "      <td>True</td>\n",
       "      <td>True</td>\n",
       "      <td>True</td>\n",
       "    </tr>\n",
       "    <tr>\n",
       "      <th>2</th>\n",
       "      <td>True</td>\n",
       "      <td>True</td>\n",
       "      <td>True</td>\n",
       "    </tr>\n",
       "    <tr>\n",
       "      <th>3</th>\n",
       "      <td>False</td>\n",
       "      <td>False</td>\n",
       "      <td>False</td>\n",
       "    </tr>\n",
       "  </tbody>\n",
       "</table>\n",
       "</div>"
      ],
      "text/plain": [
       "       0      1      2\n",
       "0   True   True   True\n",
       "1   True   True   True\n",
       "2   True   True   True\n",
       "3  False  False  False"
      ]
     },
     "execution_count": 5,
     "metadata": {},
     "output_type": "execute_result"
    }
   ],
   "source": [
    "df = pd.DataFrame([[1,2,complex(3,6)],[4,5,6],[7,8,9],[np.inf,-np.inf,np.nan]])\n",
    "np.isfinite(df)"
   ]
  },
  {
   "cell_type": "markdown",
   "id": "960d3322",
   "metadata": {},
   "source": [
    "Write a NumPy program to test element-wise for positive or negative infinity."
   ]
  },
  {
   "cell_type": "code",
   "execution_count": 6,
   "id": "16a5b4a0",
   "metadata": {},
   "outputs": [
    {
     "data": {
      "text/html": [
       "<div>\n",
       "<style scoped>\n",
       "    .dataframe tbody tr th:only-of-type {\n",
       "        vertical-align: middle;\n",
       "    }\n",
       "\n",
       "    .dataframe tbody tr th {\n",
       "        vertical-align: top;\n",
       "    }\n",
       "\n",
       "    .dataframe thead th {\n",
       "        text-align: right;\n",
       "    }\n",
       "</style>\n",
       "<table border=\"1\" class=\"dataframe\">\n",
       "  <thead>\n",
       "    <tr style=\"text-align: right;\">\n",
       "      <th></th>\n",
       "      <th>0</th>\n",
       "      <th>1</th>\n",
       "      <th>2</th>\n",
       "    </tr>\n",
       "  </thead>\n",
       "  <tbody>\n",
       "    <tr>\n",
       "      <th>0</th>\n",
       "      <td>False</td>\n",
       "      <td>False</td>\n",
       "      <td>False</td>\n",
       "    </tr>\n",
       "    <tr>\n",
       "      <th>1</th>\n",
       "      <td>False</td>\n",
       "      <td>False</td>\n",
       "      <td>False</td>\n",
       "    </tr>\n",
       "    <tr>\n",
       "      <th>2</th>\n",
       "      <td>False</td>\n",
       "      <td>False</td>\n",
       "      <td>False</td>\n",
       "    </tr>\n",
       "    <tr>\n",
       "      <th>3</th>\n",
       "      <td>True</td>\n",
       "      <td>True</td>\n",
       "      <td>False</td>\n",
       "    </tr>\n",
       "  </tbody>\n",
       "</table>\n",
       "</div>"
      ],
      "text/plain": [
       "       0      1      2\n",
       "0  False  False  False\n",
       "1  False  False  False\n",
       "2  False  False  False\n",
       "3   True   True  False"
      ]
     },
     "execution_count": 6,
     "metadata": {},
     "output_type": "execute_result"
    }
   ],
   "source": [
    "np.isinf(df)"
   ]
  },
  {
   "cell_type": "markdown",
   "id": "4f0a292d",
   "metadata": {},
   "source": [
    "Write a NumPy program to test element-wise for NaN of a given array."
   ]
  },
  {
   "cell_type": "code",
   "execution_count": 9,
   "id": "a79b178b",
   "metadata": {},
   "outputs": [
    {
     "name": "stdout",
     "output_type": "stream",
     "text": [
      "     0    1         2\n",
      "0  1.0  2.0  3.0+6.0j\n",
      "1  4.0  5.0  6.0+0.0j\n",
      "2  7.0  8.0  9.0+0.0j\n",
      "3  NaN  NaN N000a000N\n",
      "=========================\n"
     ]
    },
    {
     "data": {
      "text/html": [
       "<div>\n",
       "<style scoped>\n",
       "    .dataframe tbody tr th:only-of-type {\n",
       "        vertical-align: middle;\n",
       "    }\n",
       "\n",
       "    .dataframe tbody tr th {\n",
       "        vertical-align: top;\n",
       "    }\n",
       "\n",
       "    .dataframe thead th {\n",
       "        text-align: right;\n",
       "    }\n",
       "</style>\n",
       "<table border=\"1\" class=\"dataframe\">\n",
       "  <thead>\n",
       "    <tr style=\"text-align: right;\">\n",
       "      <th></th>\n",
       "      <th>0</th>\n",
       "      <th>1</th>\n",
       "      <th>2</th>\n",
       "    </tr>\n",
       "  </thead>\n",
       "  <tbody>\n",
       "    <tr>\n",
       "      <th>0</th>\n",
       "      <td>False</td>\n",
       "      <td>False</td>\n",
       "      <td>False</td>\n",
       "    </tr>\n",
       "    <tr>\n",
       "      <th>1</th>\n",
       "      <td>False</td>\n",
       "      <td>False</td>\n",
       "      <td>False</td>\n",
       "    </tr>\n",
       "    <tr>\n",
       "      <th>2</th>\n",
       "      <td>False</td>\n",
       "      <td>False</td>\n",
       "      <td>False</td>\n",
       "    </tr>\n",
       "    <tr>\n",
       "      <th>3</th>\n",
       "      <td>True</td>\n",
       "      <td>True</td>\n",
       "      <td>True</td>\n",
       "    </tr>\n",
       "  </tbody>\n",
       "</table>\n",
       "</div>"
      ],
      "text/plain": [
       "       0      1      2\n",
       "0  False  False  False\n",
       "1  False  False  False\n",
       "2  False  False  False\n",
       "3   True   True   True"
      ]
     },
     "execution_count": 9,
     "metadata": {},
     "output_type": "execute_result"
    }
   ],
   "source": [
    "df = pd.DataFrame([[1,2,complex(3,6)],[4,5,6],[7,8,9],[np.nan,np.nan,np.nan]])\n",
    "print(df)\n",
    "print('=========================')\n",
    "not_nan=np.isnan(df)\n",
    "not_nan"
   ]
  },
  {
   "cell_type": "markdown",
   "id": "966a478d",
   "metadata": {},
   "source": [
    "Write a NumPy program to test element-wise for complex number, real number of a given array. Also test whether a given number is a scalar type or not.\n"
   ]
  },
  {
   "cell_type": "code",
   "execution_count": 8,
   "id": "745ce235",
   "metadata": {},
   "outputs": [
    {
     "name": "stdout",
     "output_type": "stream",
     "text": [
      "[[False False  True]\n",
      " [False False False]\n",
      " [False False False]\n",
      " [False False False]]\n",
      "==============================\n",
      "       0      1      2\n",
      "0  False  False  False\n",
      "1  False  False  False\n",
      "2  False  False  False\n",
      "3  False  False   True\n",
      "==============================\n",
      "True\n"
     ]
    }
   ],
   "source": [
    "complex_num=np.iscomplex(df)\n",
    "print(complex_num)\n",
    "print('==============================')\n",
    "not_nan=np.isnan(df)\n",
    "print(not_nan)\n",
    "print('==============================')\n",
    "print(np.isscalar(1))"
   ]
  },
  {
   "cell_type": "markdown",
   "id": "1c59d67a",
   "metadata": {},
   "source": [
    "Write a NumPy program to test whether two arrays are element-wise equal within a tolerance."
   ]
  },
  {
   "cell_type": "code",
   "execution_count": 10,
   "id": "67412123",
   "metadata": {},
   "outputs": [
    {
     "data": {
      "text/plain": [
       "array([[ True,  True,  True],\n",
       "       [False, False,  True]])"
      ]
     },
     "execution_count": 10,
     "metadata": {},
     "output_type": "execute_result"
    }
   ],
   "source": [
    "a = np.array([[1,2,3],[3,4,5]])\n",
    "b = np.array([[1,2,3], [4,1,5]]) \n",
    "np.isclose(a,b)"
   ]
  },
  {
   "cell_type": "markdown",
   "id": "20a0a6ba",
   "metadata": {},
   "source": [
    "Write a NumPy program to create an element-wise comparison (greater, greater_equal, less and less_equal) of two given arrays."
   ]
  },
  {
   "cell_type": "code",
   "execution_count": 11,
   "id": "c541151a",
   "metadata": {},
   "outputs": [
    {
     "name": "stdout",
     "output_type": "stream",
     "text": [
      "[[ True  True  True]\n",
      " [False False  True]]\n",
      "========================\n",
      "[[ True  True  True]\n",
      " [ True False  True]]\n",
      "========================\n",
      "[[False False False]\n",
      " [ True  True False]]\n",
      "========================\n",
      "[[ True  True  True]\n",
      " [False  True  True]]\n"
     ]
    }
   ],
   "source": [
    "c = np.equal(a,b)\n",
    "print(c)\n",
    "print('========================')\n",
    "d = np.less_equal(a,b)\n",
    "print(d)\n",
    "print('========================')\n",
    "e = np.not_equal(a,b)\n",
    "print(e)\n",
    "print('========================')\n",
    "f = np.greater_equal(a,b)\n",
    "print(f)"
   ]
  },
  {
   "cell_type": "markdown",
   "id": "25e6d238",
   "metadata": {},
   "source": [
    "Write a NumPy program to create an element-wise comparison (equal, equal within a tolerance) of two given arrays."
   ]
  },
  {
   "cell_type": "code",
   "execution_count": 12,
   "id": "737c0267",
   "metadata": {},
   "outputs": [
    {
     "data": {
      "text/plain": [
       "array([[ True,  True,  True],\n",
       "       [False, False,  True]])"
      ]
     },
     "execution_count": 12,
     "metadata": {},
     "output_type": "execute_result"
    }
   ],
   "source": [
    "a = np.array([[1,2,3],[3,4,5]])\n",
    "b = np.array([[1,2,3], [4,1,5]]) \n",
    "np.isclose(a,b)"
   ]
  },
  {
   "cell_type": "markdown",
   "id": "c57fb4c7",
   "metadata": {},
   "source": [
    "Write a NumPy program to create an array with the values 1, 7, 13, 105 and determine the size of the memory occupied by the array.\n"
   ]
  },
  {
   "cell_type": "code",
   "execution_count": 13,
   "id": "3fcd53b2",
   "metadata": {},
   "outputs": [
    {
     "data": {
      "text/plain": [
       "16"
      ]
     },
     "execution_count": 13,
     "metadata": {},
     "output_type": "execute_result"
    }
   ],
   "source": [
    "a = np.array([1,7,13,105])\n",
    "a.nbytes"
   ]
  },
  {
   "cell_type": "code",
   "execution_count": 14,
   "id": "b8f1b687",
   "metadata": {},
   "outputs": [
    {
     "name": "stdout",
     "output_type": "stream",
     "text": [
      "16 bytes\n"
     ]
    }
   ],
   "source": [
    "print('%d bytes'%(a.size*a.itemsize))"
   ]
  },
  {
   "cell_type": "code",
   "execution_count": null,
   "id": "52eb1514",
   "metadata": {},
   "outputs": [],
   "source": []
  }
 ],
 "metadata": {
  "kernelspec": {
   "display_name": "Python 3",
   "language": "python",
   "name": "python3"
  },
  "language_info": {
   "codemirror_mode": {
    "name": "ipython",
    "version": 3
   },
   "file_extension": ".py",
   "mimetype": "text/x-python",
   "name": "python",
   "nbconvert_exporter": "python",
   "pygments_lexer": "ipython3",
   "version": "3.8.8"
  }
 },
 "nbformat": 4,
 "nbformat_minor": 5
}
