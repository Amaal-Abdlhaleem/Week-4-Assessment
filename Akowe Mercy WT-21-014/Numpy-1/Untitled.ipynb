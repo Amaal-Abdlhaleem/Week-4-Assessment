{
 "cells": [
  {
   "cell_type": "code",
   "execution_count": 3,
   "id": "87a981ea",
   "metadata": {},
   "outputs": [],
   "source": [
    "import pandas as pd\n",
    "import numpy as np"
   ]
  },
  {
   "cell_type": "code",
   "execution_count": null,
   "id": "1c24a0c1",
   "metadata": {},
   "outputs": [],
   "source": [
    "df= pd.DataFrame(np.randn(4,3)\n",
    "    'A':pd.daterange(tart='2016-01-01',periods=N,freq='Da')\n",
    " "
   ]
  },
  {
   "cell_type": "code",
   "execution_count": null,
   "id": "f85fb361",
   "metadata": {},
   "outputs": [],
   "source": []
  }
 ],
 "metadata": {
  "kernelspec": {
   "display_name": "Python 3",
   "language": "python",
   "name": "python3"
  },
  "language_info": {
   "codemirror_mode": {
    "name": "ipython",
    "version": 3
   },
   "file_extension": ".py",
   "mimetype": "text/x-python",
   "name": "python",
   "nbconvert_exporter": "python",
   "pygments_lexer": "ipython3",
   "version": "3.8.8"
  }
 },
 "nbformat": 4,
 "nbformat_minor": 5
}
