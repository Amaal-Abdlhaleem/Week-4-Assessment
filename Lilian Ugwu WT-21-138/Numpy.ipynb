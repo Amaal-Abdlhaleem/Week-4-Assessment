{
 "cells": [
  {
   "cell_type": "code",
   "execution_count": 2,
   "metadata": {
    "id": "IqSzGITQf6Ui"
   },
   "outputs": [],
   "source": [
    "import numpy as np"
   ]
  },
  {
   "cell_type": "markdown",
   "metadata": {
    "id": "epzmYzb2gRwR"
   },
   "source": [
    "1. Write a NumPy program to test whether none of the elements of a given array is zero.\n",
    "\n"
   ]
  },
  {
   "cell_type": "code",
   "execution_count": 3,
   "metadata": {
    "colab": {
     "base_uri": "https://localhost:8080/"
    },
    "id": "hWpfhgMlgJ6I",
    "outputId": "135b31ae-4a48-4db1-929a-ed6740601fb1"
   },
   "outputs": [
    {
     "name": "stdout",
     "output_type": "stream",
     "text": [
      "Original array:\n",
      "[4 5 6 7]\n",
      "Test if none of the elements of the said array is zero:\n",
      "True\n",
      "Original array:\n",
      "[0 5 6 7]\n",
      "Test if none of the elements of the said array is zero:\n",
      "False\n"
     ]
    }
   ],
   "source": [
    "numbers = np.array([4,5,6,7])\n",
    "\n",
    "print(\"Original array:\")\n",
    "\n",
    "print(numbers)\n",
    "\n",
    "print(\"Test if none of the elements of the said array is zero:\")\n",
    "\n",
    "print(np.all(numbers))\n",
    "\n",
    "numbers = np.array([0, 5,6,7])\n",
    "\n",
    "print(\"Original array:\")\n",
    "\n",
    "print(numbers)\n",
    "\n",
    "print(\"Test if none of the elements of the said array is zero:\")\n",
    "\n",
    "print(np.all(numbers))"
   ]
  },
  {
   "cell_type": "markdown",
   "metadata": {
    "id": "rdEt2B8yz5xY"
   },
   "source": [
    "2. Write a NumPy program to test whether any of the elements of a given array is non-zero."
   ]
  },
  {
   "cell_type": "code",
   "execution_count": 5,
   "metadata": {
    "id": "dIAH3kSx0EPQ"
   },
   "outputs": [
    {
     "name": "stdout",
     "output_type": "stream",
     "text": [
      "Original array:\n",
      "[1 2 0 0]\n",
      "Test whether any of the elements of a given array is non-zero:\n",
      "True\n",
      "Original array:\n",
      "[0 0 0 0]\n",
      "Test whether any of the elements of a given array is non-zero:\n",
      "False\n"
     ]
    }
   ],
   "source": [
    "x = np.array([1, 2, 0, 0])\n",
    "\n",
    "print(\"Original array:\")\n",
    "\n",
    "print(x)\n",
    "\n",
    "print(\"Test whether any of the elements of a given array is non-zero:\")\n",
    "print(np.any(x))\n",
    "\n",
    "x = np.array([0, 0, 0, 0])\n",
    "print(\"Original array:\")\n",
    "print(x)\n",
    "\n",
    "print(\"Test whether any of the elements of a given array is non-zero:\")\n",
    "print(np.any(x))"
   ]
  },
  {
   "cell_type": "markdown",
   "metadata": {
    "id": "CZpShAiKileu"
   },
   "source": [
    "3. Write a NumPy program to test a given array element-wise for finiteness (not infinity or not a Number)."
   ]
  },
  {
   "cell_type": "code",
   "execution_count": 15,
   "metadata": {
    "colab": {
     "base_uri": "https://localhost:8080/"
    },
    "id": "UzDAebepg75P",
    "outputId": "a1ef080d-72c1-4e09-b83f-c88354d944fd"
   },
   "outputs": [
    {
     "name": "stdout",
     "output_type": "stream",
     "text": [
      "Original array :\n",
      "[ 1.  0.  5. nan inf]\n",
      "Test a given array element-wise for finiteness :\n",
      "[ True  True  True False False]\n"
     ]
    }
   ],
   "source": [
    "b = np.array([1, 0, 5, np.nan, np.inf])\n",
    "print(\"Original array :\")\n",
    "print(b)\n",
    "print(...................)\n",
    "print(\"Test a given array element-wise for finiteness :\")\n",
    "print(np.isfinite(b))"
   ]
  },
  {
   "cell_type": "markdown",
   "metadata": {
    "id": "rvWJflJNkMUn"
   },
   "source": [
    "4. Write a NumPy program to test element-wise for positive or negative infinity.\n",
    "​"
   ]
  },
  {
   "cell_type": "code",
   "execution_count": 22,
   "metadata": {
    "colab": {
     "base_uri": "https://localhost:8080/"
    },
    "id": "1LyzPbXUmJ1h",
    "outputId": "8fec36a2-f581-47c1-bf77-a6ea6eb5a028"
   },
   "outputs": [
    {
     "name": "stdout",
     "output_type": "stream",
     "text": [
      "Original array\n",
      "[ 1.  -5.   1.8  nan  inf]\n",
      ".......\n",
      "Test element-wise for positive or negative infinity:\n",
      "[False False False False  True]\n"
     ]
    }
   ],
   "source": [
    "z = np.array([1, -5, 1.8, np.nan, np.inf])\n",
    "print(\"Original array\")\n",
    "print(z)\n",
    "print(\"................\")\n",
    "print(\"Test element-wise for positive or negative infinity:\")\n",
    "print(np.isinf(z))"
   ]
  },
  {
   "cell_type": "markdown",
   "metadata": {
    "id": "pD9H9BkjpvsN"
   },
   "source": [
    "5. Write a NumPy program to test element-wise for NaN of a given array."
   ]
  },
  {
   "cell_type": "code",
   "execution_count": 23,
   "metadata": {
    "colab": {
     "base_uri": "https://localhost:8080/"
    },
    "id": "_loJCEiCpyHm",
    "outputId": "529ac613-e740-4a72-b98f-62616fc32f09"
   },
   "outputs": [
    {
     "name": "stdout",
     "output_type": "stream",
     "text": [
      "Original array\n",
      "[ 1.  2. nan inf]\n",
      "..............\n",
      "Test element-wise for NaN:\n",
      "[False False  True False]\n"
     ]
    }
   ],
   "source": [
    "z = np.array([1, 2, np.nan, np.inf])\n",
    "print(\"Original array\")\n",
    "print(z)\n",
    "print(\"..............\")\n",
    "print(\"Test element-wise for NaN:\")\n",
    "print(np.isnan(z))\n"
   ]
  },
  {
   "cell_type": "markdown",
   "metadata": {
    "id": "0DxSIRtarphM"
   },
   "source": [
    "6. Write a NumPy program to test element-wise for complex number, real number of a given array. Also test whether a given number is a scalar type or not."
   ]
  },
  {
   "cell_type": "code",
   "execution_count": 30,
   "metadata": {
    "colab": {
     "base_uri": "https://localhost:8080/"
    },
    "id": "HikRtni1rivk",
    "outputId": "67df7ff3-3c7d-4fd8-c3bb-889d9b6c8e48"
   },
   "outputs": [
    {
     "name": "stdout",
     "output_type": "stream",
     "text": [
      "Original array\n",
      "[1. +0.j 1. +0.j 4.5+0.j 1. +1.j 2. +0.j 0. +2.j]\n",
      "----------------\n",
      "Checking for complex number:\n",
      "[False False False  True False  True]\n",
      "------------------\n",
      "Checking for real number:\n",
      "[ True  True  True False  True False]\n",
      "-----------------\n",
      "Checking for scalar type:\n",
      "True\n",
      "False\n"
     ]
    }
   ],
   "source": [
    "z = np.array([1, 1+0j, 4.5, 1+1j, 2, 2j])\n",
    "print(\"Original array\")\n",
    "print(z)\n",
    "print(\"----------------\")\n",
    "print(\"Checking for complex number:\")\n",
    "print(np.iscomplex(z))\n",
    "print(\"------------------\")\n",
    "print(\"Checking for real number:\")\n",
    "print(np.isreal(z))\n",
    "print(\"-----------------\")\n",
    "print(\"Checking for scalar type:\")\n",
    "print(np.isscalar(1.1))\n",
    "print(np.isscalar([1.1]))\n"
   ]
  },
  {
   "cell_type": "markdown",
   "metadata": {
    "id": "NRbDKzJSuLwu"
   },
   "source": [
    "7. Write a NumPy program to test whether two arrays are element-wise equal within a tolerance."
   ]
  },
  {
   "cell_type": "code",
   "execution_count": 6,
   "metadata": {
    "colab": {
     "base_uri": "https://localhost:8080/"
    },
    "id": "y73SCzLYuQB9",
    "outputId": "2fa78bd6-bf28-444d-852a-d339476b9682"
   },
   "outputs": [
    {
     "name": "stdout",
     "output_type": "stream",
     "text": [
      "False\n",
      "True\n",
      "False\n",
      "False\n",
      "True\n"
     ]
    }
   ],
   "source": [
    "print(np.allclose([1e10,1e-7], [1.00001e10,1e-8]))\n",
    "\n",
    "print(np.allclose([1e10,1e-8], [1.00001e10,1e-9]))\n",
    "\n",
    "print(np.allclose([1e10,1e-8], [1.0001e10,1e-9]))\n",
    "\n",
    "print(np.allclose([1.0, np.nan], [1.0, np.nan]))\n",
    "\n",
    "print(np.allclose([1.0, np.nan], [1.0, np.nan], equal_nan=True))"
   ]
  },
  {
   "cell_type": "markdown",
   "metadata": {
    "id": "13D0ymoSvstV"
   },
   "source": [
    "8. Write a NumPy program to create an element-wise comparison (greater, greater_equal, less and less_equal) of two given arrays."
   ]
  },
  {
   "cell_type": "code",
   "execution_count": 36,
   "metadata": {
    "colab": {
     "base_uri": "https://localhost:8080/"
    },
    "id": "eWYyx0Euvp7O",
    "outputId": "73375697-c4f2-436a-e1be-c1231d26e891"
   },
   "outputs": [
    {
     "name": "stdout",
     "output_type": "stream",
     "text": [
      "Original numbers:\n",
      "[7 5]\n",
      "..........\n",
      "[4 5]\n",
      "Comparison - greater\n",
      "[ True False]\n",
      ".........\n",
      "Comparison - greater than or equal\n",
      "[ True  True]\n",
      ".................\n",
      "Comparison - less\n",
      "[False False]\n",
      "..................\n",
      "Comparison - less than or equal\n",
      "[False  True]\n"
     ]
    }
   ],
   "source": [
    "x = np.array([7, 5])\n",
    "y = np.array([4, 5])\n",
    "print(\"Original numbers:\")\n",
    "print(x)\n",
    "print(\"..........\")\n",
    "\n",
    "print(y)\n",
    "print(\"Comparison - greater\")\n",
    "print(np.greater(x, y))\n",
    "print(\".........\")\n",
    "\n",
    "print(\"Comparison - greater than or equal\")\n",
    "print(np.greater_equal(x, y))\n",
    "\n",
    "print(\".................\")\n",
    "print(\"Comparison - less\")\n",
    "print(np.less(x, y))\n",
    "\n",
    "print(\"..................\")\n",
    "print(\"Comparison - less than or equal\")\n",
    "print(np.less_equal(x, y))\n"
   ]
  },
  {
   "cell_type": "markdown",
   "metadata": {
    "id": "uPDhrKCdwR1P"
   },
   "source": [
    "9. Write a NumPy program to create an element-wise comparison (equal, equal within a tolerance) of two given arrays.\n"
   ]
  },
  {
   "cell_type": "code",
   "execution_count": 43,
   "metadata": {
    "colab": {
     "base_uri": "https://localhost:8080/"
    },
    "id": "kPLqGj3wwVx8",
    "outputId": "70a34b95-5fe2-4973-e01f-bd83e4914b32"
   },
   "outputs": [
    {
     "name": "stdout",
     "output_type": "stream",
     "text": [
      "Original numbers:\n",
      "[  72   79   85   90  150 -135  120  -10   60  100]\n",
      "..............\n",
      "[  72.         50.         85.         93.        150.       -147.\n",
      "  120.        -60.         70.        100.000001]\n",
      "...............\n",
      "Comparison - equal:\n",
      "[ True False  True False  True False  True False False False]\n",
      "................\n",
      "Comparison - equal within a tolerance:\n",
      "False\n"
     ]
    }
   ],
   "source": [
    "x = np.array([72, 79, 85, 90, 150, -135, 120, -10, 60, 100])\n",
    "y = np.array([72, 50, 85, 93, 150, -147, 120, -60, 70, 100.000001])\n",
    "print(\"Original numbers:\")\n",
    "print(x)\n",
    "print(\"..............\")\n",
    "print(y)\n",
    "print(\"...............\")\n",
    "print(\"Comparison - equal:\")\n",
    "print(np.equal(x, y))\n",
    "print(\"................\")\n",
    "print(\"Comparison - equal within a tolerance:\")\n",
    "print(np.allclose(x, y))"
   ]
  },
  {
   "cell_type": "markdown",
   "metadata": {
    "id": "L_xutMXPxHF9"
   },
   "source": [
    "10. Write a NumPy program to create an array with the values 1, 7, 13, 105 and determine the size of the memory occupied by the array."
   ]
  },
  {
   "cell_type": "code",
   "execution_count": 31,
   "metadata": {
    "colab": {
     "base_uri": "https://localhost:8080/"
    },
    "id": "apJvvAFpw7F6",
    "outputId": "d590e2c9-9995-4a66-de7a-49d7c7cd1f21"
   },
   "outputs": [
    {
     "name": "stdout",
     "output_type": "stream",
     "text": [
      "Original array:\n",
      "[  1   7  13 105]\n",
      "Size of the memory occupied by the said array:\n",
      "32 bytes\n"
     ]
    }
   ],
   "source": [
    "X = np.array([1, 7, 13, 105])\n",
    "print(\"Original array:\")\n",
    "print(X)\n",
    "print(\"Size of the memory occupied by the said array:\")\n",
    "print(\"%d bytes\" % (X.size * X.itemsize))"
   ]
  },
  {
   "cell_type": "markdown",
   "metadata": {
    "id": "hOzyEflExDsz"
   },
   "source": []
  }
 ],
 "metadata": {
  "colab": {
   "name": "Numpy.ipynb",
   "provenance": []
  },
  "kernelspec": {
   "display_name": "Python 3",
   "language": "python",
   "name": "python3"
  },
  "language_info": {
   "codemirror_mode": {
    "name": "ipython",
    "version": 3
   },
   "file_extension": ".py",
   "mimetype": "text/x-python",
   "name": "python",
   "nbconvert_exporter": "python",
   "pygments_lexer": "ipython3",
   "version": "3.8.5"
  }
 },
 "nbformat": 4,
 "nbformat_minor": 1
}
